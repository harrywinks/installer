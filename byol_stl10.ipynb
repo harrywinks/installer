{
  "nbformat": 4,
  "nbformat_minor": 0,
  "metadata": {
    "accelerator": "GPU",
    "colab": {
      "name": "byol-stl10.ipynb",
      "provenance": [],
      "collapsed_sections": [],
      "machine_shape": "hm",
      "include_colab_link": true
    },
    "kernelspec": {
      "display_name": "Python 3",
      "name": "python3"
    },
    "widgets": {
      "application/vnd.jupyter.widget-state+json": {
        "517b592bd3dd47ec87103d195fafd704": {
          "model_module": "@jupyter-widgets/controls",
          "model_name": "HBoxModel",
          "model_module_version": "1.5.0",
          "state": {
            "_view_name": "HBoxView",
            "_dom_classes": [],
            "_model_name": "HBoxModel",
            "_view_module": "@jupyter-widgets/controls",
            "_model_module_version": "1.5.0",
            "_view_count": null,
            "_view_module_version": "1.5.0",
            "box_style": "",
            "layout": "IPY_MODEL_8fbe02c82e52459d91aa3a92efd1a1bb",
            "_model_module": "@jupyter-widgets/controls",
            "children": [
              "IPY_MODEL_a9c3f2a24e834ccbb801b35384d798a1",
              "IPY_MODEL_f85649321fb443588e4671cc4c801730",
              "IPY_MODEL_6adda1fe17ee4a3aa2a2ab1b99bc3cf1"
            ]
          }
        },
        "8fbe02c82e52459d91aa3a92efd1a1bb": {
          "model_module": "@jupyter-widgets/base",
          "model_name": "LayoutModel",
          "model_module_version": "1.2.0",
          "state": {
            "_view_name": "LayoutView",
            "grid_template_rows": null,
            "right": null,
            "justify_content": null,
            "_view_module": "@jupyter-widgets/base",
            "overflow": null,
            "_model_module_version": "1.2.0",
            "_view_count": null,
            "flex_flow": null,
            "width": null,
            "min_width": null,
            "border": null,
            "align_items": null,
            "bottom": null,
            "_model_module": "@jupyter-widgets/base",
            "top": null,
            "grid_column": null,
            "overflow_y": null,
            "overflow_x": null,
            "grid_auto_flow": null,
            "grid_area": null,
            "grid_template_columns": null,
            "flex": null,
            "_model_name": "LayoutModel",
            "justify_items": null,
            "grid_row": null,
            "max_height": null,
            "align_content": null,
            "visibility": null,
            "align_self": null,
            "height": null,
            "min_height": null,
            "padding": null,
            "grid_auto_rows": null,
            "grid_gap": null,
            "max_width": null,
            "order": null,
            "_view_module_version": "1.2.0",
            "grid_template_areas": null,
            "object_position": null,
            "object_fit": null,
            "grid_auto_columns": null,
            "margin": null,
            "display": null,
            "left": null
          }
        },
        "a9c3f2a24e834ccbb801b35384d798a1": {
          "model_module": "@jupyter-widgets/controls",
          "model_name": "HTMLModel",
          "model_module_version": "1.5.0",
          "state": {
            "_view_name": "HTMLView",
            "style": "IPY_MODEL_abcb137dc80f4ebdb41e20127ce02c5c",
            "_dom_classes": [],
            "description": "",
            "_model_name": "HTMLModel",
            "placeholder": "​",
            "_view_module": "@jupyter-widgets/controls",
            "_model_module_version": "1.5.0",
            "value": "",
            "_view_count": null,
            "_view_module_version": "1.5.0",
            "description_tooltip": null,
            "_model_module": "@jupyter-widgets/controls",
            "layout": "IPY_MODEL_62ff286c9f114bdf81dc99f424186b16"
          }
        },
        "f85649321fb443588e4671cc4c801730": {
          "model_module": "@jupyter-widgets/controls",
          "model_name": "FloatProgressModel",
          "model_module_version": "1.5.0",
          "state": {
            "_view_name": "ProgressView",
            "style": "IPY_MODEL_b519b5b4da2145e7aeaf0afcddfe0f9c",
            "_dom_classes": [],
            "description": "",
            "_model_name": "FloatProgressModel",
            "bar_style": "success",
            "max": 2640397119,
            "_view_module": "@jupyter-widgets/controls",
            "_model_module_version": "1.5.0",
            "value": 2640397119,
            "_view_count": null,
            "_view_module_version": "1.5.0",
            "orientation": "horizontal",
            "min": 0,
            "description_tooltip": null,
            "_model_module": "@jupyter-widgets/controls",
            "layout": "IPY_MODEL_a62e6686ecd0419388892e46d6dff6b3"
          }
        },
        "6adda1fe17ee4a3aa2a2ab1b99bc3cf1": {
          "model_module": "@jupyter-widgets/controls",
          "model_name": "HTMLModel",
          "model_module_version": "1.5.0",
          "state": {
            "_view_name": "HTMLView",
            "style": "IPY_MODEL_082bd148d6364876b8edff8e815cf024",
            "_dom_classes": [],
            "description": "",
            "_model_name": "HTMLModel",
            "placeholder": "​",
            "_view_module": "@jupyter-widgets/controls",
            "_model_module_version": "1.5.0",
            "value": " 2640397312/? [03:46&lt;00:00, 9236019.00it/s]",
            "_view_count": null,
            "_view_module_version": "1.5.0",
            "description_tooltip": null,
            "_model_module": "@jupyter-widgets/controls",
            "layout": "IPY_MODEL_aaa746d1d6184935a71ebbc8859f1ac2"
          }
        },
        "abcb137dc80f4ebdb41e20127ce02c5c": {
          "model_module": "@jupyter-widgets/controls",
          "model_name": "DescriptionStyleModel",
          "model_module_version": "1.5.0",
          "state": {
            "_view_name": "StyleView",
            "_model_name": "DescriptionStyleModel",
            "description_width": "",
            "_view_module": "@jupyter-widgets/base",
            "_model_module_version": "1.5.0",
            "_view_count": null,
            "_view_module_version": "1.2.0",
            "_model_module": "@jupyter-widgets/controls"
          }
        },
        "62ff286c9f114bdf81dc99f424186b16": {
          "model_module": "@jupyter-widgets/base",
          "model_name": "LayoutModel",
          "model_module_version": "1.2.0",
          "state": {
            "_view_name": "LayoutView",
            "grid_template_rows": null,
            "right": null,
            "justify_content": null,
            "_view_module": "@jupyter-widgets/base",
            "overflow": null,
            "_model_module_version": "1.2.0",
            "_view_count": null,
            "flex_flow": null,
            "width": null,
            "min_width": null,
            "border": null,
            "align_items": null,
            "bottom": null,
            "_model_module": "@jupyter-widgets/base",
            "top": null,
            "grid_column": null,
            "overflow_y": null,
            "overflow_x": null,
            "grid_auto_flow": null,
            "grid_area": null,
            "grid_template_columns": null,
            "flex": null,
            "_model_name": "LayoutModel",
            "justify_items": null,
            "grid_row": null,
            "max_height": null,
            "align_content": null,
            "visibility": null,
            "align_self": null,
            "height": null,
            "min_height": null,
            "padding": null,
            "grid_auto_rows": null,
            "grid_gap": null,
            "max_width": null,
            "order": null,
            "_view_module_version": "1.2.0",
            "grid_template_areas": null,
            "object_position": null,
            "object_fit": null,
            "grid_auto_columns": null,
            "margin": null,
            "display": null,
            "left": null
          }
        },
        "b519b5b4da2145e7aeaf0afcddfe0f9c": {
          "model_module": "@jupyter-widgets/controls",
          "model_name": "ProgressStyleModel",
          "model_module_version": "1.5.0",
          "state": {
            "_view_name": "StyleView",
            "_model_name": "ProgressStyleModel",
            "description_width": "",
            "_view_module": "@jupyter-widgets/base",
            "_model_module_version": "1.5.0",
            "_view_count": null,
            "_view_module_version": "1.2.0",
            "bar_color": null,
            "_model_module": "@jupyter-widgets/controls"
          }
        },
        "a62e6686ecd0419388892e46d6dff6b3": {
          "model_module": "@jupyter-widgets/base",
          "model_name": "LayoutModel",
          "model_module_version": "1.2.0",
          "state": {
            "_view_name": "LayoutView",
            "grid_template_rows": null,
            "right": null,
            "justify_content": null,
            "_view_module": "@jupyter-widgets/base",
            "overflow": null,
            "_model_module_version": "1.2.0",
            "_view_count": null,
            "flex_flow": null,
            "width": null,
            "min_width": null,
            "border": null,
            "align_items": null,
            "bottom": null,
            "_model_module": "@jupyter-widgets/base",
            "top": null,
            "grid_column": null,
            "overflow_y": null,
            "overflow_x": null,
            "grid_auto_flow": null,
            "grid_area": null,
            "grid_template_columns": null,
            "flex": null,
            "_model_name": "LayoutModel",
            "justify_items": null,
            "grid_row": null,
            "max_height": null,
            "align_content": null,
            "visibility": null,
            "align_self": null,
            "height": null,
            "min_height": null,
            "padding": null,
            "grid_auto_rows": null,
            "grid_gap": null,
            "max_width": null,
            "order": null,
            "_view_module_version": "1.2.0",
            "grid_template_areas": null,
            "object_position": null,
            "object_fit": null,
            "grid_auto_columns": null,
            "margin": null,
            "display": null,
            "left": null
          }
        },
        "082bd148d6364876b8edff8e815cf024": {
          "model_module": "@jupyter-widgets/controls",
          "model_name": "DescriptionStyleModel",
          "model_module_version": "1.5.0",
          "state": {
            "_view_name": "StyleView",
            "_model_name": "DescriptionStyleModel",
            "description_width": "",
            "_view_module": "@jupyter-widgets/base",
            "_model_module_version": "1.5.0",
            "_view_count": null,
            "_view_module_version": "1.2.0",
            "_model_module": "@jupyter-widgets/controls"
          }
        },
        "aaa746d1d6184935a71ebbc8859f1ac2": {
          "model_module": "@jupyter-widgets/base",
          "model_name": "LayoutModel",
          "model_module_version": "1.2.0",
          "state": {
            "_view_name": "LayoutView",
            "grid_template_rows": null,
            "right": null,
            "justify_content": null,
            "_view_module": "@jupyter-widgets/base",
            "overflow": null,
            "_model_module_version": "1.2.0",
            "_view_count": null,
            "flex_flow": null,
            "width": null,
            "min_width": null,
            "border": null,
            "align_items": null,
            "bottom": null,
            "_model_module": "@jupyter-widgets/base",
            "top": null,
            "grid_column": null,
            "overflow_y": null,
            "overflow_x": null,
            "grid_auto_flow": null,
            "grid_area": null,
            "grid_template_columns": null,
            "flex": null,
            "_model_name": "LayoutModel",
            "justify_items": null,
            "grid_row": null,
            "max_height": null,
            "align_content": null,
            "visibility": null,
            "align_self": null,
            "height": null,
            "min_height": null,
            "padding": null,
            "grid_auto_rows": null,
            "grid_gap": null,
            "max_width": null,
            "order": null,
            "_view_module_version": "1.2.0",
            "grid_template_areas": null,
            "object_position": null,
            "object_fit": null,
            "grid_auto_columns": null,
            "margin": null,
            "display": null,
            "left": null
          }
        },
        "761c415917014bf08bb2a7ffad9768b3": {
          "model_module": "@jupyter-widgets/controls",
          "model_name": "HBoxModel",
          "model_module_version": "1.5.0",
          "state": {
            "_view_name": "HBoxView",
            "_dom_classes": [],
            "_model_name": "HBoxModel",
            "_view_module": "@jupyter-widgets/controls",
            "_model_module_version": "1.5.0",
            "_view_count": null,
            "_view_module_version": "1.5.0",
            "box_style": "",
            "layout": "IPY_MODEL_6f1a8a26f3eb405fb95511383823040e",
            "_model_module": "@jupyter-widgets/controls",
            "children": [
              "IPY_MODEL_5d2217adeb6c4bcbabda0b85beb05d2c",
              "IPY_MODEL_1e23d8ab45014ab99454837dc956932c",
              "IPY_MODEL_d31940d9a4c4416885085f9bf03eb352"
            ]
          }
        },
        "6f1a8a26f3eb405fb95511383823040e": {
          "model_module": "@jupyter-widgets/base",
          "model_name": "LayoutModel",
          "model_module_version": "1.2.0",
          "state": {
            "_view_name": "LayoutView",
            "grid_template_rows": null,
            "right": null,
            "justify_content": null,
            "_view_module": "@jupyter-widgets/base",
            "overflow": null,
            "_model_module_version": "1.2.0",
            "_view_count": null,
            "flex_flow": null,
            "width": null,
            "min_width": null,
            "border": null,
            "align_items": null,
            "bottom": null,
            "_model_module": "@jupyter-widgets/base",
            "top": null,
            "grid_column": null,
            "overflow_y": null,
            "overflow_x": null,
            "grid_auto_flow": null,
            "grid_area": null,
            "grid_template_columns": null,
            "flex": null,
            "_model_name": "LayoutModel",
            "justify_items": null,
            "grid_row": null,
            "max_height": null,
            "align_content": null,
            "visibility": null,
            "align_self": null,
            "height": null,
            "min_height": null,
            "padding": null,
            "grid_auto_rows": null,
            "grid_gap": null,
            "max_width": null,
            "order": null,
            "_view_module_version": "1.2.0",
            "grid_template_areas": null,
            "object_position": null,
            "object_fit": null,
            "grid_auto_columns": null,
            "margin": null,
            "display": null,
            "left": null
          }
        },
        "5d2217adeb6c4bcbabda0b85beb05d2c": {
          "model_module": "@jupyter-widgets/controls",
          "model_name": "HTMLModel",
          "model_module_version": "1.5.0",
          "state": {
            "_view_name": "HTMLView",
            "style": "IPY_MODEL_37089c938d3a4cf4a2a74cdba8b39fbf",
            "_dom_classes": [],
            "description": "",
            "_model_name": "HTMLModel",
            "placeholder": "​",
            "_view_module": "@jupyter-widgets/controls",
            "_model_module_version": "1.5.0",
            "value": "100%",
            "_view_count": null,
            "_view_module_version": "1.5.0",
            "description_tooltip": null,
            "_model_module": "@jupyter-widgets/controls",
            "layout": "IPY_MODEL_dd7de5d3752e4266a4ba538e3a747515"
          }
        },
        "1e23d8ab45014ab99454837dc956932c": {
          "model_module": "@jupyter-widgets/controls",
          "model_name": "FloatProgressModel",
          "model_module_version": "1.5.0",
          "state": {
            "_view_name": "ProgressView",
            "style": "IPY_MODEL_af568dbd97ee414080b334b28b40cb71",
            "_dom_classes": [],
            "description": "",
            "_model_name": "FloatProgressModel",
            "bar_style": "success",
            "max": 102530333,
            "_view_module": "@jupyter-widgets/controls",
            "_model_module_version": "1.5.0",
            "value": 102530333,
            "_view_count": null,
            "_view_module_version": "1.5.0",
            "orientation": "horizontal",
            "min": 0,
            "description_tooltip": null,
            "_model_module": "@jupyter-widgets/controls",
            "layout": "IPY_MODEL_6994d0b85b7a4a49827c1a9a058ec1cb"
          }
        },
        "d31940d9a4c4416885085f9bf03eb352": {
          "model_module": "@jupyter-widgets/controls",
          "model_name": "HTMLModel",
          "model_module_version": "1.5.0",
          "state": {
            "_view_name": "HTMLView",
            "style": "IPY_MODEL_248bf213c4094078bd7a0c1a14cc38a5",
            "_dom_classes": [],
            "description": "",
            "_model_name": "HTMLModel",
            "placeholder": "​",
            "_view_module": "@jupyter-widgets/controls",
            "_model_module_version": "1.5.0",
            "value": " 97.8M/97.8M [00:00&lt;00:00, 192MB/s]",
            "_view_count": null,
            "_view_module_version": "1.5.0",
            "description_tooltip": null,
            "_model_module": "@jupyter-widgets/controls",
            "layout": "IPY_MODEL_afe6fb85bab1487ca733c89d5f5e04b3"
          }
        },
        "37089c938d3a4cf4a2a74cdba8b39fbf": {
          "model_module": "@jupyter-widgets/controls",
          "model_name": "DescriptionStyleModel",
          "model_module_version": "1.5.0",
          "state": {
            "_view_name": "StyleView",
            "_model_name": "DescriptionStyleModel",
            "description_width": "",
            "_view_module": "@jupyter-widgets/base",
            "_model_module_version": "1.5.0",
            "_view_count": null,
            "_view_module_version": "1.2.0",
            "_model_module": "@jupyter-widgets/controls"
          }
        },
        "dd7de5d3752e4266a4ba538e3a747515": {
          "model_module": "@jupyter-widgets/base",
          "model_name": "LayoutModel",
          "model_module_version": "1.2.0",
          "state": {
            "_view_name": "LayoutView",
            "grid_template_rows": null,
            "right": null,
            "justify_content": null,
            "_view_module": "@jupyter-widgets/base",
            "overflow": null,
            "_model_module_version": "1.2.0",
            "_view_count": null,
            "flex_flow": null,
            "width": null,
            "min_width": null,
            "border": null,
            "align_items": null,
            "bottom": null,
            "_model_module": "@jupyter-widgets/base",
            "top": null,
            "grid_column": null,
            "overflow_y": null,
            "overflow_x": null,
            "grid_auto_flow": null,
            "grid_area": null,
            "grid_template_columns": null,
            "flex": null,
            "_model_name": "LayoutModel",
            "justify_items": null,
            "grid_row": null,
            "max_height": null,
            "align_content": null,
            "visibility": null,
            "align_self": null,
            "height": null,
            "min_height": null,
            "padding": null,
            "grid_auto_rows": null,
            "grid_gap": null,
            "max_width": null,
            "order": null,
            "_view_module_version": "1.2.0",
            "grid_template_areas": null,
            "object_position": null,
            "object_fit": null,
            "grid_auto_columns": null,
            "margin": null,
            "display": null,
            "left": null
          }
        },
        "af568dbd97ee414080b334b28b40cb71": {
          "model_module": "@jupyter-widgets/controls",
          "model_name": "ProgressStyleModel",
          "model_module_version": "1.5.0",
          "state": {
            "_view_name": "StyleView",
            "_model_name": "ProgressStyleModel",
            "description_width": "",
            "_view_module": "@jupyter-widgets/base",
            "_model_module_version": "1.5.0",
            "_view_count": null,
            "_view_module_version": "1.2.0",
            "bar_color": null,
            "_model_module": "@jupyter-widgets/controls"
          }
        },
        "6994d0b85b7a4a49827c1a9a058ec1cb": {
          "model_module": "@jupyter-widgets/base",
          "model_name": "LayoutModel",
          "model_module_version": "1.2.0",
          "state": {
            "_view_name": "LayoutView",
            "grid_template_rows": null,
            "right": null,
            "justify_content": null,
            "_view_module": "@jupyter-widgets/base",
            "overflow": null,
            "_model_module_version": "1.2.0",
            "_view_count": null,
            "flex_flow": null,
            "width": null,
            "min_width": null,
            "border": null,
            "align_items": null,
            "bottom": null,
            "_model_module": "@jupyter-widgets/base",
            "top": null,
            "grid_column": null,
            "overflow_y": null,
            "overflow_x": null,
            "grid_auto_flow": null,
            "grid_area": null,
            "grid_template_columns": null,
            "flex": null,
            "_model_name": "LayoutModel",
            "justify_items": null,
            "grid_row": null,
            "max_height": null,
            "align_content": null,
            "visibility": null,
            "align_self": null,
            "height": null,
            "min_height": null,
            "padding": null,
            "grid_auto_rows": null,
            "grid_gap": null,
            "max_width": null,
            "order": null,
            "_view_module_version": "1.2.0",
            "grid_template_areas": null,
            "object_position": null,
            "object_fit": null,
            "grid_auto_columns": null,
            "margin": null,
            "display": null,
            "left": null
          }
        },
        "248bf213c4094078bd7a0c1a14cc38a5": {
          "model_module": "@jupyter-widgets/controls",
          "model_name": "DescriptionStyleModel",
          "model_module_version": "1.5.0",
          "state": {
            "_view_name": "StyleView",
            "_model_name": "DescriptionStyleModel",
            "description_width": "",
            "_view_module": "@jupyter-widgets/base",
            "_model_module_version": "1.5.0",
            "_view_count": null,
            "_view_module_version": "1.2.0",
            "_model_module": "@jupyter-widgets/controls"
          }
        },
        "afe6fb85bab1487ca733c89d5f5e04b3": {
          "model_module": "@jupyter-widgets/base",
          "model_name": "LayoutModel",
          "model_module_version": "1.2.0",
          "state": {
            "_view_name": "LayoutView",
            "grid_template_rows": null,
            "right": null,
            "justify_content": null,
            "_view_module": "@jupyter-widgets/base",
            "overflow": null,
            "_model_module_version": "1.2.0",
            "_view_count": null,
            "flex_flow": null,
            "width": null,
            "min_width": null,
            "border": null,
            "align_items": null,
            "bottom": null,
            "_model_module": "@jupyter-widgets/base",
            "top": null,
            "grid_column": null,
            "overflow_y": null,
            "overflow_x": null,
            "grid_auto_flow": null,
            "grid_area": null,
            "grid_template_columns": null,
            "flex": null,
            "_model_name": "LayoutModel",
            "justify_items": null,
            "grid_row": null,
            "max_height": null,
            "align_content": null,
            "visibility": null,
            "align_self": null,
            "height": null,
            "min_height": null,
            "padding": null,
            "grid_auto_rows": null,
            "grid_gap": null,
            "max_width": null,
            "order": null,
            "_view_module_version": "1.2.0",
            "grid_template_areas": null,
            "object_position": null,
            "object_fit": null,
            "grid_auto_columns": null,
            "margin": null,
            "display": null,
            "left": null
          }
        },
        "ad0092266be54e8fa03152458baa3808": {
          "model_module": "@jupyter-widgets/controls",
          "model_name": "HBoxModel",
          "model_module_version": "1.5.0",
          "state": {
            "_view_name": "HBoxView",
            "_dom_classes": [],
            "_model_name": "HBoxModel",
            "_view_module": "@jupyter-widgets/controls",
            "_model_module_version": "1.5.0",
            "_view_count": null,
            "_view_module_version": "1.5.0",
            "box_style": "",
            "layout": "IPY_MODEL_c453ecbd21e14218a4b8b21449758c3f",
            "_model_module": "@jupyter-widgets/controls",
            "children": [
              "IPY_MODEL_9a3034d20bae4370a82a134b78908c71",
              "IPY_MODEL_660e304f2ee64a09b86f2d1d5b2108b4",
              "IPY_MODEL_7357f2604c8046689dd2b77d15538324"
            ]
          }
        },
        "c453ecbd21e14218a4b8b21449758c3f": {
          "model_module": "@jupyter-widgets/base",
          "model_name": "LayoutModel",
          "model_module_version": "1.2.0",
          "state": {
            "_view_name": "LayoutView",
            "grid_template_rows": null,
            "right": null,
            "justify_content": null,
            "_view_module": "@jupyter-widgets/base",
            "overflow": null,
            "_model_module_version": "1.2.0",
            "_view_count": null,
            "flex_flow": "row wrap",
            "width": "100%",
            "min_width": null,
            "border": null,
            "align_items": null,
            "bottom": null,
            "_model_module": "@jupyter-widgets/base",
            "top": null,
            "grid_column": null,
            "overflow_y": null,
            "overflow_x": null,
            "grid_auto_flow": null,
            "grid_area": null,
            "grid_template_columns": null,
            "flex": null,
            "_model_name": "LayoutModel",
            "justify_items": null,
            "grid_row": null,
            "max_height": null,
            "align_content": null,
            "visibility": null,
            "align_self": null,
            "height": null,
            "min_height": null,
            "padding": null,
            "grid_auto_rows": null,
            "grid_gap": null,
            "max_width": null,
            "order": null,
            "_view_module_version": "1.2.0",
            "grid_template_areas": null,
            "object_position": null,
            "object_fit": null,
            "grid_auto_columns": null,
            "margin": null,
            "display": "inline-flex",
            "left": null
          }
        },
        "9a3034d20bae4370a82a134b78908c71": {
          "model_module": "@jupyter-widgets/controls",
          "model_name": "HTMLModel",
          "model_module_version": "1.5.0",
          "state": {
            "_view_name": "HTMLView",
            "style": "IPY_MODEL_3de71a1835c64288a8345f68f128054c",
            "_dom_classes": [],
            "description": "",
            "_model_name": "HTMLModel",
            "placeholder": "​",
            "_view_module": "@jupyter-widgets/controls",
            "_model_module_version": "1.5.0",
            "value": "Validation sanity check:   0%",
            "_view_count": null,
            "_view_module_version": "1.5.0",
            "description_tooltip": null,
            "_model_module": "@jupyter-widgets/controls",
            "layout": "IPY_MODEL_78b422317e764e6c9b8e4d608ad087a8"
          }
        },
        "660e304f2ee64a09b86f2d1d5b2108b4": {
          "model_module": "@jupyter-widgets/controls",
          "model_name": "FloatProgressModel",
          "model_module_version": "1.5.0",
          "state": {
            "_view_name": "ProgressView",
            "style": "IPY_MODEL_688dec2f23554823b048f6ed205ded9d",
            "_dom_classes": [],
            "description": "",
            "_model_name": "FloatProgressModel",
            "bar_style": "danger",
            "max": 2,
            "_view_module": "@jupyter-widgets/controls",
            "_model_module_version": "1.5.0",
            "value": 0,
            "_view_count": null,
            "_view_module_version": "1.5.0",
            "orientation": "horizontal",
            "min": 0,
            "description_tooltip": null,
            "_model_module": "@jupyter-widgets/controls",
            "layout": "IPY_MODEL_3fb5994b4c1c421db4dcf640a9263e1b"
          }
        },
        "7357f2604c8046689dd2b77d15538324": {
          "model_module": "@jupyter-widgets/controls",
          "model_name": "HTMLModel",
          "model_module_version": "1.5.0",
          "state": {
            "_view_name": "HTMLView",
            "style": "IPY_MODEL_c042b5672cb348229e5b304f32495eee",
            "_dom_classes": [],
            "description": "",
            "_model_name": "HTMLModel",
            "placeholder": "​",
            "_view_module": "@jupyter-widgets/controls",
            "_model_module_version": "1.5.0",
            "value": " 0/2 [00:00&lt;?, ?it/s]",
            "_view_count": null,
            "_view_module_version": "1.5.0",
            "description_tooltip": null,
            "_model_module": "@jupyter-widgets/controls",
            "layout": "IPY_MODEL_ac7f0ea84b5a4e6fa568af211fe13ac7"
          }
        },
        "3de71a1835c64288a8345f68f128054c": {
          "model_module": "@jupyter-widgets/controls",
          "model_name": "DescriptionStyleModel",
          "model_module_version": "1.5.0",
          "state": {
            "_view_name": "StyleView",
            "_model_name": "DescriptionStyleModel",
            "description_width": "",
            "_view_module": "@jupyter-widgets/base",
            "_model_module_version": "1.5.0",
            "_view_count": null,
            "_view_module_version": "1.2.0",
            "_model_module": "@jupyter-widgets/controls"
          }
        },
        "78b422317e764e6c9b8e4d608ad087a8": {
          "model_module": "@jupyter-widgets/base",
          "model_name": "LayoutModel",
          "model_module_version": "1.2.0",
          "state": {
            "_view_name": "LayoutView",
            "grid_template_rows": null,
            "right": null,
            "justify_content": null,
            "_view_module": "@jupyter-widgets/base",
            "overflow": null,
            "_model_module_version": "1.2.0",
            "_view_count": null,
            "flex_flow": null,
            "width": null,
            "min_width": null,
            "border": null,
            "align_items": null,
            "bottom": null,
            "_model_module": "@jupyter-widgets/base",
            "top": null,
            "grid_column": null,
            "overflow_y": null,
            "overflow_x": null,
            "grid_auto_flow": null,
            "grid_area": null,
            "grid_template_columns": null,
            "flex": null,
            "_model_name": "LayoutModel",
            "justify_items": null,
            "grid_row": null,
            "max_height": null,
            "align_content": null,
            "visibility": null,
            "align_self": null,
            "height": null,
            "min_height": null,
            "padding": null,
            "grid_auto_rows": null,
            "grid_gap": null,
            "max_width": null,
            "order": null,
            "_view_module_version": "1.2.0",
            "grid_template_areas": null,
            "object_position": null,
            "object_fit": null,
            "grid_auto_columns": null,
            "margin": null,
            "display": null,
            "left": null
          }
        },
        "688dec2f23554823b048f6ed205ded9d": {
          "model_module": "@jupyter-widgets/controls",
          "model_name": "ProgressStyleModel",
          "model_module_version": "1.5.0",
          "state": {
            "_view_name": "StyleView",
            "_model_name": "ProgressStyleModel",
            "description_width": "",
            "_view_module": "@jupyter-widgets/base",
            "_model_module_version": "1.5.0",
            "_view_count": null,
            "_view_module_version": "1.2.0",
            "bar_color": null,
            "_model_module": "@jupyter-widgets/controls"
          }
        },
        "3fb5994b4c1c421db4dcf640a9263e1b": {
          "model_module": "@jupyter-widgets/base",
          "model_name": "LayoutModel",
          "model_module_version": "1.2.0",
          "state": {
            "_view_name": "LayoutView",
            "grid_template_rows": null,
            "right": null,
            "justify_content": null,
            "_view_module": "@jupyter-widgets/base",
            "overflow": null,
            "_model_module_version": "1.2.0",
            "_view_count": null,
            "flex_flow": null,
            "width": null,
            "min_width": null,
            "border": null,
            "align_items": null,
            "bottom": null,
            "_model_module": "@jupyter-widgets/base",
            "top": null,
            "grid_column": null,
            "overflow_y": null,
            "overflow_x": null,
            "grid_auto_flow": null,
            "grid_area": null,
            "grid_template_columns": null,
            "flex": "2",
            "_model_name": "LayoutModel",
            "justify_items": null,
            "grid_row": null,
            "max_height": null,
            "align_content": null,
            "visibility": null,
            "align_self": null,
            "height": null,
            "min_height": null,
            "padding": null,
            "grid_auto_rows": null,
            "grid_gap": null,
            "max_width": null,
            "order": null,
            "_view_module_version": "1.2.0",
            "grid_template_areas": null,
            "object_position": null,
            "object_fit": null,
            "grid_auto_columns": null,
            "margin": null,
            "display": null,
            "left": null
          }
        },
        "c042b5672cb348229e5b304f32495eee": {
          "model_module": "@jupyter-widgets/controls",
          "model_name": "DescriptionStyleModel",
          "model_module_version": "1.5.0",
          "state": {
            "_view_name": "StyleView",
            "_model_name": "DescriptionStyleModel",
            "description_width": "",
            "_view_module": "@jupyter-widgets/base",
            "_model_module_version": "1.5.0",
            "_view_count": null,
            "_view_module_version": "1.2.0",
            "_model_module": "@jupyter-widgets/controls"
          }
        },
        "ac7f0ea84b5a4e6fa568af211fe13ac7": {
          "model_module": "@jupyter-widgets/base",
          "model_name": "LayoutModel",
          "model_module_version": "1.2.0",
          "state": {
            "_view_name": "LayoutView",
            "grid_template_rows": null,
            "right": null,
            "justify_content": null,
            "_view_module": "@jupyter-widgets/base",
            "overflow": null,
            "_model_module_version": "1.2.0",
            "_view_count": null,
            "flex_flow": null,
            "width": null,
            "min_width": null,
            "border": null,
            "align_items": null,
            "bottom": null,
            "_model_module": "@jupyter-widgets/base",
            "top": null,
            "grid_column": null,
            "overflow_y": null,
            "overflow_x": null,
            "grid_auto_flow": null,
            "grid_area": null,
            "grid_template_columns": null,
            "flex": null,
            "_model_name": "LayoutModel",
            "justify_items": null,
            "grid_row": null,
            "max_height": null,
            "align_content": null,
            "visibility": null,
            "align_self": null,
            "height": null,
            "min_height": null,
            "padding": null,
            "grid_auto_rows": null,
            "grid_gap": null,
            "max_width": null,
            "order": null,
            "_view_module_version": "1.2.0",
            "grid_template_areas": null,
            "object_position": null,
            "object_fit": null,
            "grid_auto_columns": null,
            "margin": null,
            "display": null,
            "left": null
          }
        },
        "f497bdbba91e4cc6ba679236c1c4d7d6": {
          "model_module": "@jupyter-widgets/controls",
          "model_name": "HBoxModel",
          "model_module_version": "1.5.0",
          "state": {
            "_view_name": "HBoxView",
            "_dom_classes": [],
            "_model_name": "HBoxModel",
            "_view_module": "@jupyter-widgets/controls",
            "_model_module_version": "1.5.0",
            "_view_count": null,
            "_view_module_version": "1.5.0",
            "box_style": "",
            "layout": "IPY_MODEL_4710f5caa4d247779c120eb8b8edd161",
            "_model_module": "@jupyter-widgets/controls",
            "children": [
              "IPY_MODEL_950251450369458c94ee97bca17c42eb",
              "IPY_MODEL_525bf92be297485990a095074443259a",
              "IPY_MODEL_38a5a0cfbeb04a7eaf43097bf778455e"
            ]
          }
        },
        "4710f5caa4d247779c120eb8b8edd161": {
          "model_module": "@jupyter-widgets/base",
          "model_name": "LayoutModel",
          "model_module_version": "1.2.0",
          "state": {
            "_view_name": "LayoutView",
            "grid_template_rows": null,
            "right": null,
            "justify_content": null,
            "_view_module": "@jupyter-widgets/base",
            "overflow": null,
            "_model_module_version": "1.2.0",
            "_view_count": null,
            "flex_flow": "row wrap",
            "width": "100%",
            "min_width": null,
            "border": null,
            "align_items": null,
            "bottom": null,
            "_model_module": "@jupyter-widgets/base",
            "top": null,
            "grid_column": null,
            "overflow_y": null,
            "overflow_x": null,
            "grid_auto_flow": null,
            "grid_area": null,
            "grid_template_columns": null,
            "flex": null,
            "_model_name": "LayoutModel",
            "justify_items": null,
            "grid_row": null,
            "max_height": null,
            "align_content": null,
            "visibility": null,
            "align_self": null,
            "height": null,
            "min_height": null,
            "padding": null,
            "grid_auto_rows": null,
            "grid_gap": null,
            "max_width": null,
            "order": null,
            "_view_module_version": "1.2.0",
            "grid_template_areas": null,
            "object_position": null,
            "object_fit": null,
            "grid_auto_columns": null,
            "margin": null,
            "display": "inline-flex",
            "left": null
          }
        },
        "950251450369458c94ee97bca17c42eb": {
          "model_module": "@jupyter-widgets/controls",
          "model_name": "HTMLModel",
          "model_module_version": "1.5.0",
          "state": {
            "_view_name": "HTMLView",
            "style": "IPY_MODEL_18db5a1d485f4b63979605f881685a3f",
            "_dom_classes": [],
            "description": "",
            "_model_name": "HTMLModel",
            "placeholder": "​",
            "_view_module": "@jupyter-widgets/controls",
            "_model_module_version": "1.5.0",
            "value": "Validation sanity check:   0%",
            "_view_count": null,
            "_view_module_version": "1.5.0",
            "description_tooltip": null,
            "_model_module": "@jupyter-widgets/controls",
            "layout": "IPY_MODEL_b58882b7b9a34f8e8ad09f3492aa00cc"
          }
        },
        "525bf92be297485990a095074443259a": {
          "model_module": "@jupyter-widgets/controls",
          "model_name": "FloatProgressModel",
          "model_module_version": "1.5.0",
          "state": {
            "_view_name": "ProgressView",
            "style": "IPY_MODEL_412c69784a2c496b8a75732b4abfb652",
            "_dom_classes": [],
            "description": "",
            "_model_name": "FloatProgressModel",
            "bar_style": "danger",
            "max": 2,
            "_view_module": "@jupyter-widgets/controls",
            "_model_module_version": "1.5.0",
            "value": 0,
            "_view_count": null,
            "_view_module_version": "1.5.0",
            "orientation": "horizontal",
            "min": 0,
            "description_tooltip": null,
            "_model_module": "@jupyter-widgets/controls",
            "layout": "IPY_MODEL_260ff96d71e745c5945eabdb4075a6d4"
          }
        },
        "38a5a0cfbeb04a7eaf43097bf778455e": {
          "model_module": "@jupyter-widgets/controls",
          "model_name": "HTMLModel",
          "model_module_version": "1.5.0",
          "state": {
            "_view_name": "HTMLView",
            "style": "IPY_MODEL_6e41cca2ac5f49c59d25b96bcfeee194",
            "_dom_classes": [],
            "description": "",
            "_model_name": "HTMLModel",
            "placeholder": "​",
            "_view_module": "@jupyter-widgets/controls",
            "_model_module_version": "1.5.0",
            "value": " 0/2 [00:00&lt;?, ?it/s]",
            "_view_count": null,
            "_view_module_version": "1.5.0",
            "description_tooltip": null,
            "_model_module": "@jupyter-widgets/controls",
            "layout": "IPY_MODEL_03470f24109f4b008c108ca42412d771"
          }
        },
        "18db5a1d485f4b63979605f881685a3f": {
          "model_module": "@jupyter-widgets/controls",
          "model_name": "DescriptionStyleModel",
          "model_module_version": "1.5.0",
          "state": {
            "_view_name": "StyleView",
            "_model_name": "DescriptionStyleModel",
            "description_width": "",
            "_view_module": "@jupyter-widgets/base",
            "_model_module_version": "1.5.0",
            "_view_count": null,
            "_view_module_version": "1.2.0",
            "_model_module": "@jupyter-widgets/controls"
          }
        },
        "b58882b7b9a34f8e8ad09f3492aa00cc": {
          "model_module": "@jupyter-widgets/base",
          "model_name": "LayoutModel",
          "model_module_version": "1.2.0",
          "state": {
            "_view_name": "LayoutView",
            "grid_template_rows": null,
            "right": null,
            "justify_content": null,
            "_view_module": "@jupyter-widgets/base",
            "overflow": null,
            "_model_module_version": "1.2.0",
            "_view_count": null,
            "flex_flow": null,
            "width": null,
            "min_width": null,
            "border": null,
            "align_items": null,
            "bottom": null,
            "_model_module": "@jupyter-widgets/base",
            "top": null,
            "grid_column": null,
            "overflow_y": null,
            "overflow_x": null,
            "grid_auto_flow": null,
            "grid_area": null,
            "grid_template_columns": null,
            "flex": null,
            "_model_name": "LayoutModel",
            "justify_items": null,
            "grid_row": null,
            "max_height": null,
            "align_content": null,
            "visibility": null,
            "align_self": null,
            "height": null,
            "min_height": null,
            "padding": null,
            "grid_auto_rows": null,
            "grid_gap": null,
            "max_width": null,
            "order": null,
            "_view_module_version": "1.2.0",
            "grid_template_areas": null,
            "object_position": null,
            "object_fit": null,
            "grid_auto_columns": null,
            "margin": null,
            "display": null,
            "left": null
          }
        },
        "412c69784a2c496b8a75732b4abfb652": {
          "model_module": "@jupyter-widgets/controls",
          "model_name": "ProgressStyleModel",
          "model_module_version": "1.5.0",
          "state": {
            "_view_name": "StyleView",
            "_model_name": "ProgressStyleModel",
            "description_width": "",
            "_view_module": "@jupyter-widgets/base",
            "_model_module_version": "1.5.0",
            "_view_count": null,
            "_view_module_version": "1.2.0",
            "bar_color": null,
            "_model_module": "@jupyter-widgets/controls"
          }
        },
        "260ff96d71e745c5945eabdb4075a6d4": {
          "model_module": "@jupyter-widgets/base",
          "model_name": "LayoutModel",
          "model_module_version": "1.2.0",
          "state": {
            "_view_name": "LayoutView",
            "grid_template_rows": null,
            "right": null,
            "justify_content": null,
            "_view_module": "@jupyter-widgets/base",
            "overflow": null,
            "_model_module_version": "1.2.0",
            "_view_count": null,
            "flex_flow": null,
            "width": null,
            "min_width": null,
            "border": null,
            "align_items": null,
            "bottom": null,
            "_model_module": "@jupyter-widgets/base",
            "top": null,
            "grid_column": null,
            "overflow_y": null,
            "overflow_x": null,
            "grid_auto_flow": null,
            "grid_area": null,
            "grid_template_columns": null,
            "flex": "2",
            "_model_name": "LayoutModel",
            "justify_items": null,
            "grid_row": null,
            "max_height": null,
            "align_content": null,
            "visibility": null,
            "align_self": null,
            "height": null,
            "min_height": null,
            "padding": null,
            "grid_auto_rows": null,
            "grid_gap": null,
            "max_width": null,
            "order": null,
            "_view_module_version": "1.2.0",
            "grid_template_areas": null,
            "object_position": null,
            "object_fit": null,
            "grid_auto_columns": null,
            "margin": null,
            "display": null,
            "left": null
          }
        },
        "6e41cca2ac5f49c59d25b96bcfeee194": {
          "model_module": "@jupyter-widgets/controls",
          "model_name": "DescriptionStyleModel",
          "model_module_version": "1.5.0",
          "state": {
            "_view_name": "StyleView",
            "_model_name": "DescriptionStyleModel",
            "description_width": "",
            "_view_module": "@jupyter-widgets/base",
            "_model_module_version": "1.5.0",
            "_view_count": null,
            "_view_module_version": "1.2.0",
            "_model_module": "@jupyter-widgets/controls"
          }
        },
        "03470f24109f4b008c108ca42412d771": {
          "model_module": "@jupyter-widgets/base",
          "model_name": "LayoutModel",
          "model_module_version": "1.2.0",
          "state": {
            "_view_name": "LayoutView",
            "grid_template_rows": null,
            "right": null,
            "justify_content": null,
            "_view_module": "@jupyter-widgets/base",
            "overflow": null,
            "_model_module_version": "1.2.0",
            "_view_count": null,
            "flex_flow": null,
            "width": null,
            "min_width": null,
            "border": null,
            "align_items": null,
            "bottom": null,
            "_model_module": "@jupyter-widgets/base",
            "top": null,
            "grid_column": null,
            "overflow_y": null,
            "overflow_x": null,
            "grid_auto_flow": null,
            "grid_area": null,
            "grid_template_columns": null,
            "flex": null,
            "_model_name": "LayoutModel",
            "justify_items": null,
            "grid_row": null,
            "max_height": null,
            "align_content": null,
            "visibility": null,
            "align_self": null,
            "height": null,
            "min_height": null,
            "padding": null,
            "grid_auto_rows": null,
            "grid_gap": null,
            "max_width": null,
            "order": null,
            "_view_module_version": "1.2.0",
            "grid_template_areas": null,
            "object_position": null,
            "object_fit": null,
            "grid_auto_columns": null,
            "margin": null,
            "display": null,
            "left": null
          }
        },
        "9e14510a626c43f2acd59b4776965759": {
          "model_module": "@jupyter-widgets/controls",
          "model_name": "HBoxModel",
          "model_module_version": "1.5.0",
          "state": {
            "_view_name": "HBoxView",
            "_dom_classes": [],
            "_model_name": "HBoxModel",
            "_view_module": "@jupyter-widgets/controls",
            "_model_module_version": "1.5.0",
            "_view_count": null,
            "_view_module_version": "1.5.0",
            "box_style": "",
            "layout": "IPY_MODEL_6b89db44a7cc49e0ae88a1bbe7ea3ac9",
            "_model_module": "@jupyter-widgets/controls",
            "children": [
              "IPY_MODEL_d5adc6673a414b4fb82cdbcd2a3708af",
              "IPY_MODEL_85dbdeb8bf5f447bba7c7b20d172c234",
              "IPY_MODEL_5f2664d0e53e4f498eff82411282a579"
            ]
          }
        },
        "6b89db44a7cc49e0ae88a1bbe7ea3ac9": {
          "model_module": "@jupyter-widgets/base",
          "model_name": "LayoutModel",
          "model_module_version": "1.2.0",
          "state": {
            "_view_name": "LayoutView",
            "grid_template_rows": null,
            "right": null,
            "justify_content": null,
            "_view_module": "@jupyter-widgets/base",
            "overflow": null,
            "_model_module_version": "1.2.0",
            "_view_count": null,
            "flex_flow": "row wrap",
            "width": "100%",
            "min_width": null,
            "border": null,
            "align_items": null,
            "bottom": null,
            "_model_module": "@jupyter-widgets/base",
            "top": null,
            "grid_column": null,
            "overflow_y": null,
            "overflow_x": null,
            "grid_auto_flow": null,
            "grid_area": null,
            "grid_template_columns": null,
            "flex": null,
            "_model_name": "LayoutModel",
            "justify_items": null,
            "grid_row": null,
            "max_height": null,
            "align_content": null,
            "visibility": null,
            "align_self": null,
            "height": null,
            "min_height": null,
            "padding": null,
            "grid_auto_rows": null,
            "grid_gap": null,
            "max_width": null,
            "order": null,
            "_view_module_version": "1.2.0",
            "grid_template_areas": null,
            "object_position": null,
            "object_fit": null,
            "grid_auto_columns": null,
            "margin": null,
            "display": "inline-flex",
            "left": null
          }
        },
        "d5adc6673a414b4fb82cdbcd2a3708af": {
          "model_module": "@jupyter-widgets/controls",
          "model_name": "HTMLModel",
          "model_module_version": "1.5.0",
          "state": {
            "_view_name": "HTMLView",
            "style": "IPY_MODEL_8f1577a5eed147b89d40f814df9bc89c",
            "_dom_classes": [],
            "description": "",
            "_model_name": "HTMLModel",
            "placeholder": "​",
            "_view_module": "@jupyter-widgets/controls",
            "_model_module_version": "1.5.0",
            "value": "Epoch 24: 100%",
            "_view_count": null,
            "_view_module_version": "1.5.0",
            "description_tooltip": null,
            "_model_module": "@jupyter-widgets/controls",
            "layout": "IPY_MODEL_a3d925c6947940bfb6984ff106dc7f42"
          }
        },
        "85dbdeb8bf5f447bba7c7b20d172c234": {
          "model_module": "@jupyter-widgets/controls",
          "model_name": "FloatProgressModel",
          "model_module_version": "1.5.0",
          "state": {
            "_view_name": "ProgressView",
            "style": "IPY_MODEL_7ce363a03a454cbeb8f7460e66c5749c",
            "_dom_classes": [],
            "description": "",
            "_model_name": "FloatProgressModel",
            "bar_style": "success",
            "max": 102,
            "_view_module": "@jupyter-widgets/controls",
            "_model_module_version": "1.5.0",
            "value": 102,
            "_view_count": null,
            "_view_module_version": "1.5.0",
            "orientation": "horizontal",
            "min": 0,
            "description_tooltip": null,
            "_model_module": "@jupyter-widgets/controls",
            "layout": "IPY_MODEL_6e978bb22e67425f9fbf3f1dd8910def"
          }
        },
        "5f2664d0e53e4f498eff82411282a579": {
          "model_module": "@jupyter-widgets/controls",
          "model_name": "HTMLModel",
          "model_module_version": "1.5.0",
          "state": {
            "_view_name": "HTMLView",
            "style": "IPY_MODEL_43606b810bfd4ccc9e3457367f89abb1",
            "_dom_classes": [],
            "description": "",
            "_model_name": "HTMLModel",
            "placeholder": "​",
            "_view_module": "@jupyter-widgets/controls",
            "_model_module_version": "1.5.0",
            "value": " 102/102 [00:12&lt;00:00,  8.14it/s, loss=0.000123, v_num=2]",
            "_view_count": null,
            "_view_module_version": "1.5.0",
            "description_tooltip": null,
            "_model_module": "@jupyter-widgets/controls",
            "layout": "IPY_MODEL_29643c1016bd4fa883746eea3e53cf8c"
          }
        },
        "8f1577a5eed147b89d40f814df9bc89c": {
          "model_module": "@jupyter-widgets/controls",
          "model_name": "DescriptionStyleModel",
          "model_module_version": "1.5.0",
          "state": {
            "_view_name": "StyleView",
            "_model_name": "DescriptionStyleModel",
            "description_width": "",
            "_view_module": "@jupyter-widgets/base",
            "_model_module_version": "1.5.0",
            "_view_count": null,
            "_view_module_version": "1.2.0",
            "_model_module": "@jupyter-widgets/controls"
          }
        },
        "a3d925c6947940bfb6984ff106dc7f42": {
          "model_module": "@jupyter-widgets/base",
          "model_name": "LayoutModel",
          "model_module_version": "1.2.0",
          "state": {
            "_view_name": "LayoutView",
            "grid_template_rows": null,
            "right": null,
            "justify_content": null,
            "_view_module": "@jupyter-widgets/base",
            "overflow": null,
            "_model_module_version": "1.2.0",
            "_view_count": null,
            "flex_flow": null,
            "width": null,
            "min_width": null,
            "border": null,
            "align_items": null,
            "bottom": null,
            "_model_module": "@jupyter-widgets/base",
            "top": null,
            "grid_column": null,
            "overflow_y": null,
            "overflow_x": null,
            "grid_auto_flow": null,
            "grid_area": null,
            "grid_template_columns": null,
            "flex": null,
            "_model_name": "LayoutModel",
            "justify_items": null,
            "grid_row": null,
            "max_height": null,
            "align_content": null,
            "visibility": null,
            "align_self": null,
            "height": null,
            "min_height": null,
            "padding": null,
            "grid_auto_rows": null,
            "grid_gap": null,
            "max_width": null,
            "order": null,
            "_view_module_version": "1.2.0",
            "grid_template_areas": null,
            "object_position": null,
            "object_fit": null,
            "grid_auto_columns": null,
            "margin": null,
            "display": null,
            "left": null
          }
        },
        "7ce363a03a454cbeb8f7460e66c5749c": {
          "model_module": "@jupyter-widgets/controls",
          "model_name": "ProgressStyleModel",
          "model_module_version": "1.5.0",
          "state": {
            "_view_name": "StyleView",
            "_model_name": "ProgressStyleModel",
            "description_width": "",
            "_view_module": "@jupyter-widgets/base",
            "_model_module_version": "1.5.0",
            "_view_count": null,
            "_view_module_version": "1.2.0",
            "bar_color": null,
            "_model_module": "@jupyter-widgets/controls"
          }
        },
        "6e978bb22e67425f9fbf3f1dd8910def": {
          "model_module": "@jupyter-widgets/base",
          "model_name": "LayoutModel",
          "model_module_version": "1.2.0",
          "state": {
            "_view_name": "LayoutView",
            "grid_template_rows": null,
            "right": null,
            "justify_content": null,
            "_view_module": "@jupyter-widgets/base",
            "overflow": null,
            "_model_module_version": "1.2.0",
            "_view_count": null,
            "flex_flow": null,
            "width": null,
            "min_width": null,
            "border": null,
            "align_items": null,
            "bottom": null,
            "_model_module": "@jupyter-widgets/base",
            "top": null,
            "grid_column": null,
            "overflow_y": null,
            "overflow_x": null,
            "grid_auto_flow": null,
            "grid_area": null,
            "grid_template_columns": null,
            "flex": "2",
            "_model_name": "LayoutModel",
            "justify_items": null,
            "grid_row": null,
            "max_height": null,
            "align_content": null,
            "visibility": null,
            "align_self": null,
            "height": null,
            "min_height": null,
            "padding": null,
            "grid_auto_rows": null,
            "grid_gap": null,
            "max_width": null,
            "order": null,
            "_view_module_version": "1.2.0",
            "grid_template_areas": null,
            "object_position": null,
            "object_fit": null,
            "grid_auto_columns": null,
            "margin": null,
            "display": null,
            "left": null
          }
        },
        "43606b810bfd4ccc9e3457367f89abb1": {
          "model_module": "@jupyter-widgets/controls",
          "model_name": "DescriptionStyleModel",
          "model_module_version": "1.5.0",
          "state": {
            "_view_name": "StyleView",
            "_model_name": "DescriptionStyleModel",
            "description_width": "",
            "_view_module": "@jupyter-widgets/base",
            "_model_module_version": "1.5.0",
            "_view_count": null,
            "_view_module_version": "1.2.0",
            "_model_module": "@jupyter-widgets/controls"
          }
        },
        "29643c1016bd4fa883746eea3e53cf8c": {
          "model_module": "@jupyter-widgets/base",
          "model_name": "LayoutModel",
          "model_module_version": "1.2.0",
          "state": {
            "_view_name": "LayoutView",
            "grid_template_rows": null,
            "right": null,
            "justify_content": null,
            "_view_module": "@jupyter-widgets/base",
            "overflow": null,
            "_model_module_version": "1.2.0",
            "_view_count": null,
            "flex_flow": null,
            "width": null,
            "min_width": null,
            "border": null,
            "align_items": null,
            "bottom": null,
            "_model_module": "@jupyter-widgets/base",
            "top": null,
            "grid_column": null,
            "overflow_y": null,
            "overflow_x": null,
            "grid_auto_flow": null,
            "grid_area": null,
            "grid_template_columns": null,
            "flex": null,
            "_model_name": "LayoutModel",
            "justify_items": null,
            "grid_row": null,
            "max_height": null,
            "align_content": null,
            "visibility": null,
            "align_self": null,
            "height": null,
            "min_height": null,
            "padding": null,
            "grid_auto_rows": null,
            "grid_gap": null,
            "max_width": null,
            "order": null,
            "_view_module_version": "1.2.0",
            "grid_template_areas": null,
            "object_position": null,
            "object_fit": null,
            "grid_auto_columns": null,
            "margin": null,
            "display": null,
            "left": null
          }
        }
      }
    }
  },
  "cells": [
    {
      "cell_type": "markdown",
      "metadata": {
        "id": "view-in-github",
        "colab_type": "text"
      },
      "source": [
        "<a href=\"https://colab.research.google.com/github/harrywinks/installer/blob/main/byol_stl10.ipynb\" target=\"_parent\"><img src=\"https://colab.research.google.com/assets/colab-badge.svg\" alt=\"Open In Colab\"/></a>"
      ]
    },
    {
      "cell_type": "markdown",
      "metadata": {
        "id": "QnKVArh_0qhm"
      },
      "source": [
        "# BYOL Demo\n",
        "\n",
        "An end-to-end demonstration of BYOL in action, using STL10 as a toy dataset."
      ]
    },
    {
      "cell_type": "markdown",
      "metadata": {
        "id": "YlYhVUAT2cq6"
      },
      "source": [
        "### Install dependencies\n",
        "\n",
        "PyTorch and Torchvision are pre-installed in Colab instances, so no need to worry about those."
      ]
    },
    {
      "cell_type": "code",
      "metadata": {
        "id": "bBV7LbjIewYg"
      },
      "source": [
        "# Install dependencies.  Note that pytorch and torchvision are pre-installed \n",
        "# in standard Colab instances, so no need to worry about those.\n",
        "!pip install -q kornia pytorch_lightning"
      ],
      "execution_count": 3,
      "outputs": []
    },
    {
      "cell_type": "markdown",
      "metadata": {
        "id": "5E6nh_5Q2uIp"
      },
      "source": [
        "### Data Augmentations"
      ]
    },
    {
      "cell_type": "code",
      "metadata": {
        "id": "B7vzr4sTnriT"
      },
      "source": [
        "import random\n",
        "from typing import Callable, Tuple\n",
        "\n",
        "from kornia import augmentation as aug\n",
        "from kornia import filters\n",
        "from kornia.geometry import transform as tf\n",
        "import torch\n",
        "from torch import nn, Tensor\n",
        "\n",
        "\n",
        "class RandomApply(nn.Module):\n",
        "    def __init__(self, fn: Callable, p: float):\n",
        "        super().__init__()\n",
        "        self.fn = fn\n",
        "        self.p = p\n",
        "\n",
        "    def forward(self, x: Tensor) -> Tensor:\n",
        "        return x if random.random() > self.p else self.fn(x)\n",
        "\n",
        "\n",
        "def default_augmentation(image_size: Tuple[int, int] = (224, 224)) -> nn.Module:\n",
        "    return nn.Sequential(\n",
        "        tf.Resize(size=image_size),\n",
        "        RandomApply(aug.ColorJitter(0.8, 0.8, 0.8, 0.2), p=0.8),\n",
        "        aug.RandomGrayscale(p=0.2),\n",
        "        aug.RandomHorizontalFlip(),\n",
        "        RandomApply(filters.GaussianBlur2d((3, 3), (1.5, 1.5)), p=0.1),\n",
        "        aug.RandomResizedCrop(size=image_size),\n",
        "        aug.Normalize(\n",
        "            mean=torch.tensor([0.485, 0.456, 0.406]),\n",
        "            std=torch.tensor([0.229, 0.224, 0.225]),\n",
        "        ),\n",
        "    )"
      ],
      "execution_count": 4,
      "outputs": []
    },
    {
      "cell_type": "markdown",
      "metadata": {
        "id": "bu1-JLLA3Bse"
      },
      "source": [
        "### Encoder Wrapper\n",
        "\n",
        "Enables us to work with *any* model, not just ResNet18 which I chose for this demo."
      ]
    },
    {
      "cell_type": "code",
      "metadata": {
        "id": "YoU-3B4FmtrZ"
      },
      "source": [
        "from typing import Union\n",
        "\n",
        "\n",
        "def mlp(dim: int, projection_size: int = 256, hidden_size: int = 4096) -> nn.Module:\n",
        "    return nn.Sequential(\n",
        "        nn.Linear(dim, hidden_size),\n",
        "        nn.BatchNorm1d(hidden_size),\n",
        "        nn.ReLU(inplace=True),\n",
        "        nn.Linear(hidden_size, projection_size),\n",
        "    )\n",
        "\n",
        "\n",
        "class EncoderWrapper(nn.Module):\n",
        "    def __init__(\n",
        "        self,\n",
        "        model: nn.Module,\n",
        "        projection_size: int = 256,\n",
        "        hidden_size: int = 4096,\n",
        "        layer: Union[str, int] = -2,\n",
        "    ):\n",
        "        super().__init__()\n",
        "        self.model = model\n",
        "        self.projection_size = projection_size\n",
        "        self.hidden_size = hidden_size\n",
        "        self.layer = layer\n",
        "\n",
        "        self._projector = None\n",
        "        self._projector_dim = None\n",
        "        self._encoded = torch.empty(0)\n",
        "        self._register_hook()\n",
        "\n",
        "    @property\n",
        "    def projector(self):\n",
        "        if self._projector is None:\n",
        "            self._projector = mlp(\n",
        "                self._projector_dim, self.projection_size, self.hidden_size\n",
        "            )\n",
        "        return self._projector\n",
        "\n",
        "    def _hook(self, _, __, output):\n",
        "        output = output.flatten(start_dim=1)\n",
        "        if self._projector_dim is None:\n",
        "            self._projector_dim = output.shape[-1]\n",
        "        self._encoded = self.projector(output)\n",
        "\n",
        "    def _register_hook(self):\n",
        "        if isinstance(self.layer, str):\n",
        "            layer = dict([*self.model.named_modules()])[self.layer]\n",
        "        else:\n",
        "            layer = list(self.model.children())[self.layer]\n",
        "\n",
        "        layer.register_forward_hook(self._hook)\n",
        "\n",
        "    def forward(self, x: Tensor) -> Tensor:\n",
        "        _ = self.model(x)\n",
        "        return self._encoded"
      ],
      "execution_count": 5,
      "outputs": []
    },
    {
      "cell_type": "markdown",
      "metadata": {
        "id": "ON4m4_m43LyZ"
      },
      "source": [
        "### BYOL and Training Code\n",
        "\n",
        "Encapsulate BYOL into a single module.  I use PyTorch Lightning here, because it makes training very easy.  This code also works for multi-GPU or TPU training, and experiments are logged automatically."
      ]
    },
    {
      "cell_type": "code",
      "metadata": {
        "id": "I-t6_FWKnkeU"
      },
      "source": [
        "from copy import deepcopy\n",
        "from itertools import chain\n",
        "from typing import Dict, List\n",
        "\n",
        "import pytorch_lightning as pl\n",
        "from torch import optim\n",
        "import torch.nn.functional as f\n",
        "\n",
        "\n",
        "def normalized_mse(x: Tensor, y: Tensor) -> Tensor:\n",
        "    x = f.normalize(x, dim=-1)\n",
        "    y = f.normalize(y, dim=-1)\n",
        "    return 2 - 2 * (x * y).sum(dim=-1)\n",
        "\n",
        "\n",
        "class BYOL(pl.LightningModule):\n",
        "    def __init__(\n",
        "        self,\n",
        "        model: nn.Module,\n",
        "        image_size: Tuple[int, int] = (96, 96),\n",
        "        hidden_layer: Union[str, int] = -2,\n",
        "        projection_size: int = 256,\n",
        "        hidden_size: int = 4096,\n",
        "        augment_fn: Callable = None,\n",
        "        beta: float = 0.999,\n",
        "        **hparams,\n",
        "    ):\n",
        "        super().__init__()\n",
        "        self.augment = default_augmentation(image_size) if augment_fn is None else augment_fn\n",
        "        self.beta = beta\n",
        "        self.encoder = EncoderWrapper(\n",
        "            model, projection_size, hidden_size, layer=hidden_layer\n",
        "        )\n",
        "        self.predictor = nn.Linear(projection_size, projection_size, hidden_size)\n",
        "        for key in hparams.keys():\n",
        "            self.hparams[key]=hparams[key]\n",
        "        self._target = None\n",
        "\n",
        "        self.encoder(torch.zeros(2, 3, *image_size))\n",
        "\n",
        "    def forward(self, x: Tensor) -> Tensor:\n",
        "        return self.predictor(self.encoder(x))\n",
        "\n",
        "    @property\n",
        "    def target(self):\n",
        "        if self._target is None:\n",
        "            self._target = deepcopy(self.encoder)\n",
        "        return self._target\n",
        "\n",
        "    def update_target(self):\n",
        "        for p, pt in zip(self.encoder.parameters(), self.target.parameters()):\n",
        "            pt.data = self.beta * pt.data + (1 - self.beta) * p.data\n",
        "\n",
        "    # --- Methods required for PyTorch Lightning only! ---\n",
        "\n",
        "    def configure_optimizers(self):\n",
        "        optimizer = getattr(optim, self.hparams.get(\"optimizer\", \"Adam\"))\n",
        "        lr = self.hparams.get(\"lr\", 1e-4)\n",
        "        weight_decay = self.hparams.get(\"weight_decay\", 1e-6)\n",
        "        return optimizer(self.parameters(), lr=lr, weight_decay=weight_decay)\n",
        "\n",
        "    def training_step(self, batch, *_) -> Dict[str, Union[Tensor, Dict]]:\n",
        "        x = batch[0]\n",
        "        with torch.no_grad():\n",
        "            x1, x2 = self.augment(x), self.augment(x)\n",
        "\n",
        "        pred1, pred2 = self.forward(x1), self.forward(x2)\n",
        "        with torch.no_grad():\n",
        "            targ1, targ2 = self.target(x1), self.target(x2)\n",
        "        loss = torch.mean(normalized_mse(pred1, targ2) + normalized_mse(pred2, targ1))\n",
        "\n",
        "        self.log(\"train_loss\", loss.item())\n",
        "        self.update_target()\n",
        "\n",
        "        return {\"loss\": loss}\n",
        "\n",
        "    @torch.no_grad()\n",
        "    def validation_step(self, batch, *_) -> Dict[str, Union[Tensor, Dict]]:\n",
        "        x = batch[0]\n",
        "        x1, x2 = self.augment(x), self.augment(x)\n",
        "        pred1, pred2 = self.forward(x1), self.forward(x2)\n",
        "        targ1, targ2 = self.target(x1), self.target(x2)\n",
        "        loss = torch.mean(normalized_mse(pred1, targ2) + normalized_mse(pred2, targ1))\n",
        "\n",
        "        return {\"loss\": loss}\n",
        "\n",
        "    @torch.no_grad()\n",
        "    def validation_epoch_end(self, outputs: List[Dict]) -> Dict:\n",
        "        val_loss = sum(x[\"loss\"] for x in outputs) / len(outputs)\n",
        "        self.log(\"val_loss\", val_loss.item())"
      ],
      "execution_count": 18,
      "outputs": []
    },
    {
      "cell_type": "markdown",
      "metadata": {
        "id": "lSL9G_1u3vkn"
      },
      "source": [
        "### Supervised Training Module\n",
        "\n",
        "We also need a Lightning module for supervised training on STL10, after any self-supervised training has completed.  There's not much special here -- just standard supervised training."
      ]
    },
    {
      "cell_type": "code",
      "metadata": {
        "id": "Fb_VTfPS7FLx"
      },
      "source": [
        "class SupervisedLightningModule(pl.LightningModule):\n",
        "    def __init__(self, model: nn.Module, **hparams):\n",
        "        super().__init__()\n",
        "        self.model = model\n",
        "\n",
        "    def forward(self, x: Tensor) -> Tensor:\n",
        "        return self.model(x)\n",
        "\n",
        "    def configure_optimizers(self):\n",
        "        optimizer = getattr(optim, self.hparams.get(\"optimizer\", \"Adam\"))\n",
        "        lr = self.hparams.get(\"lr\", 1e-4)\n",
        "        weight_decay = self.hparams.get(\"weight_decay\", 1e-6)\n",
        "        return optimizer(self.parameters(), lr=lr, weight_decay=weight_decay)\n",
        "\n",
        "    def training_step(self, batch, *_) -> Dict[str, Union[Tensor, Dict]]:\n",
        "        x, y = batch\n",
        "        loss = f.cross_entropy(self.forward(x), y)\n",
        "        self.log(\"train_loss\", loss.item())\n",
        "        return {\"loss\": loss}\n",
        "\n",
        "    @torch.no_grad()\n",
        "    def validation_step(self, batch, *_) -> Dict[str, Union[Tensor, Dict]]:\n",
        "        x, y = batch\n",
        "        loss = f.cross_entropy(self.forward(x), y)\n",
        "        return {\"loss\": loss}\n",
        "\n",
        "    @torch.no_grad()\n",
        "    def validation_epoch_end(self, outputs: List[Dict]) -> Dict:\n",
        "        val_loss = sum(x[\"loss\"] for x in outputs) / len(outputs)\n",
        "        self.log(\"val_loss\", val_loss.item())"
      ],
      "execution_count": 7,
      "outputs": []
    },
    {
      "cell_type": "markdown",
      "metadata": {
        "id": "rQzcP89G4L2u"
      },
      "source": [
        "### STL10 Datasets\n",
        "\n",
        "We need 3 separate datasets from STL10 for this experiment:\n",
        "1. `\"train\"` -- Contains only labeled training images. Used for supervised training.\n",
        "2. `\"train+unlabeled\"` -- Contains training images, plus a large number of unlabelled images.  Used for self-supervised learning with BYOL.\n",
        "3. `\"test\"` -- Labeled test images.  We use it both as a validation set, and for computing the final model accuracy."
      ]
    },
    {
      "cell_type": "code",
      "metadata": {
        "colab": {
          "base_uri": "https://localhost:8080/",
          "height": 119,
          "referenced_widgets": [
            "517b592bd3dd47ec87103d195fafd704",
            "8fbe02c82e52459d91aa3a92efd1a1bb",
            "a9c3f2a24e834ccbb801b35384d798a1",
            "f85649321fb443588e4671cc4c801730",
            "6adda1fe17ee4a3aa2a2ab1b99bc3cf1",
            "abcb137dc80f4ebdb41e20127ce02c5c",
            "62ff286c9f114bdf81dc99f424186b16",
            "b519b5b4da2145e7aeaf0afcddfe0f9c",
            "a62e6686ecd0419388892e46d6dff6b3",
            "082bd148d6364876b8edff8e815cf024",
            "aaa746d1d6184935a71ebbc8859f1ac2"
          ]
        },
        "id": "1lTVx52t9Kjf",
        "outputId": "53a82df0-e6d0-4939-841e-a827e8d6525c"
      },
      "source": [
        "from torchvision.datasets import STL10\n",
        "from torchvision.transforms import ToTensor\n",
        "\n",
        "\n",
        "TRAIN_DATASET = STL10(root=\"data\", split=\"train\", download=True, transform=ToTensor())\n",
        "TRAIN_UNLABELED_DATASET = STL10(\n",
        "    root=\"data\", split=\"train+unlabeled\", download=True, transform=ToTensor()\n",
        ")\n",
        "TEST_DATASET = STL10(root=\"data\", split=\"test\", download=True, transform=ToTensor())"
      ],
      "execution_count": 8,
      "outputs": [
        {
          "output_type": "stream",
          "name": "stdout",
          "text": [
            "Downloading http://ai.stanford.edu/~acoates/stl10/stl10_binary.tar.gz to data/stl10_binary.tar.gz\n"
          ]
        },
        {
          "output_type": "display_data",
          "data": {
            "application/vnd.jupyter.widget-view+json": {
              "model_id": "517b592bd3dd47ec87103d195fafd704",
              "version_minor": 0,
              "version_major": 2
            },
            "text/plain": [
              "  0%|          | 0/2640397119 [00:00<?, ?it/s]"
            ]
          },
          "metadata": {}
        },
        {
          "output_type": "stream",
          "name": "stdout",
          "text": [
            "Extracting data/stl10_binary.tar.gz to data\n",
            "Files already downloaded and verified\n",
            "Files already downloaded and verified\n"
          ]
        }
      ]
    },
    {
      "cell_type": "markdown",
      "metadata": {
        "id": "vdlrDnwR45bm"
      },
      "source": [
        "### Supervised Training without BYOL\n",
        "\n",
        "Run through supervised training, and measure the accuracy.  Performance should be pretty good already. "
      ]
    },
    {
      "cell_type": "code",
      "metadata": {
        "colab": {
          "base_uri": "https://localhost:8080/",
          "height": 362,
          "referenced_widgets": [
            "761c415917014bf08bb2a7ffad9768b3",
            "6f1a8a26f3eb405fb95511383823040e",
            "5d2217adeb6c4bcbabda0b85beb05d2c",
            "1e23d8ab45014ab99454837dc956932c",
            "d31940d9a4c4416885085f9bf03eb352",
            "37089c938d3a4cf4a2a74cdba8b39fbf",
            "dd7de5d3752e4266a4ba538e3a747515",
            "af568dbd97ee414080b334b28b40cb71",
            "6994d0b85b7a4a49827c1a9a058ec1cb",
            "248bf213c4094078bd7a0c1a14cc38a5",
            "afe6fb85bab1487ca733c89d5f5e04b3"
          ]
        },
        "id": "6fVMyeNl9nph",
        "outputId": "c5575c6f-e795-425b-f9d9-6f817dc20634"
      },
      "source": [
        "from os import cpu_count\n",
        "\n",
        "from torch.utils.data import DataLoader\n",
        "from torchvision.models import resnet50\n",
        "\n",
        "\n",
        "model = resnet50(pretrained=True)\n",
        "supervised = SupervisedLightningModule(model)\n",
        "trainer = pl.Trainer(max_epochs=25, gpus=-1, weights_summary=None)\n",
        "train_loader = DataLoader(\n",
        "    TRAIN_DATASET,\n",
        "    batch_size=128,\n",
        "    shuffle=True,\n",
        "    drop_last=True,\n",
        ")\n",
        "val_loader = DataLoader(\n",
        "    TEST_DATASET,\n",
        "    batch_size=128,\n",
        ")\n",
        "trainer.fit(supervised, train_loader, val_loader)"
      ],
      "execution_count": 9,
      "outputs": [
        {
          "output_type": "stream",
          "name": "stderr",
          "text": [
            "Downloading: \"https://download.pytorch.org/models/resnet50-0676ba61.pth\" to /root/.cache/torch/hub/checkpoints/resnet50-0676ba61.pth\n"
          ]
        },
        {
          "output_type": "display_data",
          "data": {
            "application/vnd.jupyter.widget-view+json": {
              "model_id": "761c415917014bf08bb2a7ffad9768b3",
              "version_minor": 0,
              "version_major": 2
            },
            "text/plain": [
              "  0%|          | 0.00/97.8M [00:00<?, ?B/s]"
            ]
          },
          "metadata": {}
        },
        {
          "output_type": "stream",
          "name": "stderr",
          "text": [
            "GPU available: True, used: True\n",
            "TPU available: False, using: 0 TPU cores\n",
            "IPU available: False, using: 0 IPUs\n",
            "LOCAL_RANK: 0 - CUDA_VISIBLE_DEVICES: [0]\n"
          ]
        },
        {
          "output_type": "display_data",
          "data": {
            "application/vnd.jupyter.widget-view+json": {
              "model_id": "067115edfaea481c81d9934c02554d2f",
              "version_minor": 0,
              "version_major": 2
            },
            "text/plain": [
              "Validation sanity check: 0it [00:00, ?it/s]"
            ]
          },
          "metadata": {}
        },
        {
          "output_type": "stream",
          "name": "stderr",
          "text": [
            "/usr/local/lib/python3.7/dist-packages/pytorch_lightning/trainer/data_loading.py:106: UserWarning: The dataloader, val dataloader 0, does not have many workers which may be a bottleneck. Consider increasing the value of the `num_workers` argument` (try 4 which is the number of cpus on this machine) in the `DataLoader` init to improve performance.\n",
            "  f\"The dataloader, {name}, does not have many workers which may be a bottleneck.\"\n",
            "/usr/local/lib/python3.7/dist-packages/torch/nn/functional.py:718: UserWarning: Named tensors and all their associated APIs are an experimental feature and subject to change. Please do not use them for anything important until they are released as stable. (Triggered internally at  /pytorch/c10/core/TensorImpl.h:1156.)\n",
            "  return torch.max_pool2d(input, kernel_size, stride, padding, dilation, ceil_mode)\n",
            "/usr/local/lib/python3.7/dist-packages/pytorch_lightning/trainer/data_loading.py:106: UserWarning: The dataloader, train dataloader, does not have many workers which may be a bottleneck. Consider increasing the value of the `num_workers` argument` (try 4 which is the number of cpus on this machine) in the `DataLoader` init to improve performance.\n",
            "  f\"The dataloader, {name}, does not have many workers which may be a bottleneck.\"\n",
            "/usr/local/lib/python3.7/dist-packages/pytorch_lightning/trainer/data_loading.py:327: UserWarning: The number of training samples (39) is smaller than the logging interval Trainer(log_every_n_steps=50). Set a lower value for log_every_n_steps if you want to see logs for the training epoch.\n",
            "  f\"The number of training samples ({self.num_training_batches}) is smaller than the logging interval\"\n"
          ]
        },
        {
          "output_type": "display_data",
          "data": {
            "application/vnd.jupyter.widget-view+json": {
              "model_id": "73ccfcc0532f47e5b0ab82008c5a9639",
              "version_minor": 0,
              "version_major": 2
            },
            "text/plain": [
              "Training: -1it [00:00, ?it/s]"
            ]
          },
          "metadata": {}
        },
        {
          "output_type": "display_data",
          "data": {
            "application/vnd.jupyter.widget-view+json": {
              "model_id": "b5df74c341ad4e4f8a12eaee88f3c54d",
              "version_minor": 0,
              "version_major": 2
            },
            "text/plain": [
              "Validating: 0it [00:00, ?it/s]"
            ]
          },
          "metadata": {}
        },
        {
          "output_type": "display_data",
          "data": {
            "application/vnd.jupyter.widget-view+json": {
              "model_id": "beba47588b3a4dae9a71a5b935e0c138",
              "version_minor": 0,
              "version_major": 2
            },
            "text/plain": [
              "Validating: 0it [00:00, ?it/s]"
            ]
          },
          "metadata": {}
        },
        {
          "output_type": "display_data",
          "data": {
            "application/vnd.jupyter.widget-view+json": {
              "model_id": "5b7bc4e305a04a80afab368ebcb0a5fb",
              "version_minor": 0,
              "version_major": 2
            },
            "text/plain": [
              "Validating: 0it [00:00, ?it/s]"
            ]
          },
          "metadata": {}
        },
        {
          "output_type": "display_data",
          "data": {
            "application/vnd.jupyter.widget-view+json": {
              "model_id": "d6029a71079747fcb4881ac43b7defdc",
              "version_minor": 0,
              "version_major": 2
            },
            "text/plain": [
              "Validating: 0it [00:00, ?it/s]"
            ]
          },
          "metadata": {}
        },
        {
          "output_type": "display_data",
          "data": {
            "application/vnd.jupyter.widget-view+json": {
              "model_id": "25baee4a45154116ba9604919dd6a059",
              "version_minor": 0,
              "version_major": 2
            },
            "text/plain": [
              "Validating: 0it [00:00, ?it/s]"
            ]
          },
          "metadata": {}
        },
        {
          "output_type": "display_data",
          "data": {
            "application/vnd.jupyter.widget-view+json": {
              "model_id": "46314b2354ce482ab0042e32db54aabf",
              "version_minor": 0,
              "version_major": 2
            },
            "text/plain": [
              "Validating: 0it [00:00, ?it/s]"
            ]
          },
          "metadata": {}
        },
        {
          "output_type": "display_data",
          "data": {
            "application/vnd.jupyter.widget-view+json": {
              "model_id": "6771b0d5bc524b2e837277e9556f6dcc",
              "version_minor": 0,
              "version_major": 2
            },
            "text/plain": [
              "Validating: 0it [00:00, ?it/s]"
            ]
          },
          "metadata": {}
        },
        {
          "output_type": "display_data",
          "data": {
            "application/vnd.jupyter.widget-view+json": {
              "model_id": "9553ce1d0a60489cb886dca7a9626df0",
              "version_minor": 0,
              "version_major": 2
            },
            "text/plain": [
              "Validating: 0it [00:00, ?it/s]"
            ]
          },
          "metadata": {}
        },
        {
          "output_type": "display_data",
          "data": {
            "application/vnd.jupyter.widget-view+json": {
              "model_id": "3babe66da80443889d358f55f1030c27",
              "version_minor": 0,
              "version_major": 2
            },
            "text/plain": [
              "Validating: 0it [00:00, ?it/s]"
            ]
          },
          "metadata": {}
        },
        {
          "output_type": "display_data",
          "data": {
            "application/vnd.jupyter.widget-view+json": {
              "model_id": "4245028c6bc44784af2eaced74711b1a",
              "version_minor": 0,
              "version_major": 2
            },
            "text/plain": [
              "Validating: 0it [00:00, ?it/s]"
            ]
          },
          "metadata": {}
        },
        {
          "output_type": "display_data",
          "data": {
            "application/vnd.jupyter.widget-view+json": {
              "model_id": "e2bc8ed7f70d490c8bdd2eb74769bb61",
              "version_minor": 0,
              "version_major": 2
            },
            "text/plain": [
              "Validating: 0it [00:00, ?it/s]"
            ]
          },
          "metadata": {}
        },
        {
          "output_type": "display_data",
          "data": {
            "application/vnd.jupyter.widget-view+json": {
              "model_id": "585d3934a5fc45769d75578fa0d4ef50",
              "version_minor": 0,
              "version_major": 2
            },
            "text/plain": [
              "Validating: 0it [00:00, ?it/s]"
            ]
          },
          "metadata": {}
        },
        {
          "output_type": "display_data",
          "data": {
            "application/vnd.jupyter.widget-view+json": {
              "model_id": "4620397295b44d02ba48d1c0ccd77131",
              "version_minor": 0,
              "version_major": 2
            },
            "text/plain": [
              "Validating: 0it [00:00, ?it/s]"
            ]
          },
          "metadata": {}
        },
        {
          "output_type": "display_data",
          "data": {
            "application/vnd.jupyter.widget-view+json": {
              "model_id": "ffff5ec04ebb486299bf8af11f0f42f0",
              "version_minor": 0,
              "version_major": 2
            },
            "text/plain": [
              "Validating: 0it [00:00, ?it/s]"
            ]
          },
          "metadata": {}
        },
        {
          "output_type": "display_data",
          "data": {
            "application/vnd.jupyter.widget-view+json": {
              "model_id": "fce098a1f49b401a83a4a645f34c2087",
              "version_minor": 0,
              "version_major": 2
            },
            "text/plain": [
              "Validating: 0it [00:00, ?it/s]"
            ]
          },
          "metadata": {}
        },
        {
          "output_type": "display_data",
          "data": {
            "application/vnd.jupyter.widget-view+json": {
              "model_id": "1aefd7d6bf494cc6b885830cb2574130",
              "version_minor": 0,
              "version_major": 2
            },
            "text/plain": [
              "Validating: 0it [00:00, ?it/s]"
            ]
          },
          "metadata": {}
        },
        {
          "output_type": "display_data",
          "data": {
            "application/vnd.jupyter.widget-view+json": {
              "model_id": "2235b3342f4242d79e2d176c6d5a2715",
              "version_minor": 0,
              "version_major": 2
            },
            "text/plain": [
              "Validating: 0it [00:00, ?it/s]"
            ]
          },
          "metadata": {}
        },
        {
          "output_type": "display_data",
          "data": {
            "application/vnd.jupyter.widget-view+json": {
              "model_id": "a9d94bed63eb4b57a97d3f62fbb6c26a",
              "version_minor": 0,
              "version_major": 2
            },
            "text/plain": [
              "Validating: 0it [00:00, ?it/s]"
            ]
          },
          "metadata": {}
        },
        {
          "output_type": "display_data",
          "data": {
            "application/vnd.jupyter.widget-view+json": {
              "model_id": "3cde0aba4132469981acc76a41be192e",
              "version_minor": 0,
              "version_major": 2
            },
            "text/plain": [
              "Validating: 0it [00:00, ?it/s]"
            ]
          },
          "metadata": {}
        },
        {
          "output_type": "display_data",
          "data": {
            "application/vnd.jupyter.widget-view+json": {
              "model_id": "2baf758eb1934f39966c8d49149321fb",
              "version_minor": 0,
              "version_major": 2
            },
            "text/plain": [
              "Validating: 0it [00:00, ?it/s]"
            ]
          },
          "metadata": {}
        },
        {
          "output_type": "display_data",
          "data": {
            "application/vnd.jupyter.widget-view+json": {
              "model_id": "9f7d08fbc6664086bdf7ea176998a96c",
              "version_minor": 0,
              "version_major": 2
            },
            "text/plain": [
              "Validating: 0it [00:00, ?it/s]"
            ]
          },
          "metadata": {}
        },
        {
          "output_type": "display_data",
          "data": {
            "application/vnd.jupyter.widget-view+json": {
              "model_id": "8ec3477a1797469195b203abb8f5bd25",
              "version_minor": 0,
              "version_major": 2
            },
            "text/plain": [
              "Validating: 0it [00:00, ?it/s]"
            ]
          },
          "metadata": {}
        },
        {
          "output_type": "display_data",
          "data": {
            "application/vnd.jupyter.widget-view+json": {
              "model_id": "9e13e67503104f918ab8de7c43ab7f4a",
              "version_minor": 0,
              "version_major": 2
            },
            "text/plain": [
              "Validating: 0it [00:00, ?it/s]"
            ]
          },
          "metadata": {}
        },
        {
          "output_type": "display_data",
          "data": {
            "application/vnd.jupyter.widget-view+json": {
              "model_id": "b522fc1aebb64391b73b2ad9c237f002",
              "version_minor": 0,
              "version_major": 2
            },
            "text/plain": [
              "Validating: 0it [00:00, ?it/s]"
            ]
          },
          "metadata": {}
        },
        {
          "output_type": "display_data",
          "data": {
            "application/vnd.jupyter.widget-view+json": {
              "model_id": "a7cb5dab71de4a69ad3a3c562b67623c",
              "version_minor": 0,
              "version_major": 2
            },
            "text/plain": [
              "Validating: 0it [00:00, ?it/s]"
            ]
          },
          "metadata": {}
        }
      ]
    },
    {
      "cell_type": "code",
      "metadata": {
        "colab": {
          "base_uri": "https://localhost:8080/"
        },
        "id": "WOcDePjP-4SY",
        "outputId": "0cbb4805-d9cd-41bb-e871-41562733c59e"
      },
      "source": [
        "def accuracy(pred: Tensor, labels: Tensor) -> float:\n",
        "    return (pred.argmax(dim=-1) == labels).float().mean().item()\n",
        "\n",
        "\n",
        "model.cuda()\n",
        "acc = sum([accuracy(model(x.cuda()), y.cuda()) for x, y in val_loader]) / len(val_loader)\n",
        "print(f\"Accuracy: {acc:.3f}\")"
      ],
      "execution_count": 10,
      "outputs": [
        {
          "output_type": "stream",
          "name": "stdout",
          "text": [
            "Accuracy: 0.886\n"
          ]
        }
      ]
    },
    {
      "cell_type": "code",
      "metadata": {
        "id": "f4AV8khZ10W7",
        "outputId": "988c682a-0daf-4277-e9b9-55a8425f05b1",
        "colab": {
          "base_uri": "https://localhost:8080/",
          "height": 134
        }
      },
      "source": [
        "- [SSL] veri-wild에서는 BYOL encoder(=resnet50)을 가져와서 pretrained weight으로 사용\n",
        "- [Linear evaluation] stl-10에서는 BYOL encoder(=resnet50)에 fc layer달아서 실험"
      ],
      "execution_count": 12,
      "outputs": [
        {
          "output_type": "error",
          "ename": "SyntaxError",
          "evalue": "ignored",
          "traceback": [
            "\u001b[0;36m  File \u001b[0;32m\"<ipython-input-12-d91edb2bd268>\"\u001b[0;36m, line \u001b[0;32m1\u001b[0m\n\u001b[0;31m    - [SSL] veri-wild에서는 BYOL encoder(=resnet50)을 가져와서 pretrained weight으로 사용\u001b[0m\n\u001b[0m               ^\u001b[0m\n\u001b[0;31mSyntaxError\u001b[0m\u001b[0;31m:\u001b[0m invalid syntax\n"
          ]
        }
      ]
    },
    {
      "cell_type": "markdown",
      "metadata": {
        "id": "Nsz8L5yM109F"
      },
      "source": [
        "## 10.08 실행주\n"
      ]
    },
    {
      "cell_type": "markdown",
      "metadata": {
        "id": "rBTyX-f45Sgj"
      },
      "source": [
        "### Self-Supervised Training with BYOL\n",
        "\n",
        "Perform our self-supervised training.  This is the most computationally intensive part of the script.  It takes roughly 45 minutes on a standard Colab instance with a K80 GPU."
      ]
    },
    {
      "cell_type": "code",
      "metadata": {
        "colab": {
          "base_uri": "https://localhost:8080/",
          "height": 277,
          "referenced_widgets": [
            "ad0092266be54e8fa03152458baa3808",
            "c453ecbd21e14218a4b8b21449758c3f",
            "9a3034d20bae4370a82a134b78908c71",
            "660e304f2ee64a09b86f2d1d5b2108b4",
            "7357f2604c8046689dd2b77d15538324",
            "3de71a1835c64288a8345f68f128054c",
            "78b422317e764e6c9b8e4d608ad087a8",
            "688dec2f23554823b048f6ed205ded9d",
            "3fb5994b4c1c421db4dcf640a9263e1b",
            "c042b5672cb348229e5b304f32495eee",
            "ac7f0ea84b5a4e6fa568af211fe13ac7"
          ]
        },
        "id": "z_Qlbd38r__K",
        "outputId": "3fe35404-d875-410b-b9e6-fa11a65e2f13"
      },
      "source": [
        "from torchvision.models import resnet50\n",
        "model2 = resnet50(pretrained=True)\n",
        "byol = BYOL(model2, image_size=(96, 96))\n",
        "trainer = pl.Trainer(\n",
        "    max_epochs=50, \n",
        "    gpus=-1,\n",
        "    accumulate_grad_batches=2048 // 128,\n",
        "    weights_summary=None,\n",
        ")\n",
        "train_loader_b = DataLoader(\n",
        "    TRAIN_DATASET,\n",
        "    batch_size=128,\n",
        "    shuffle=True,\n",
        "    drop_last=True,\n",
        ")\n",
        "val_loader_b = DataLoader(\n",
        "    TEST_DATASET,\n",
        "    batch_size=128,\n",
        ")\n",
        "trainer.fit(byol, train_loader_b, val_loader_b)"
      ],
      "execution_count": 19,
      "outputs": [
        {
          "output_type": "stream",
          "name": "stderr",
          "text": [
            "GPU available: True, used: True\n",
            "TPU available: False, using: 0 TPU cores\n",
            "IPU available: False, using: 0 IPUs\n",
            "LOCAL_RANK: 0 - CUDA_VISIBLE_DEVICES: [0]\n"
          ]
        },
        {
          "output_type": "display_data",
          "data": {
            "application/vnd.jupyter.widget-view+json": {
              "model_id": "ad0092266be54e8fa03152458baa3808",
              "version_minor": 0,
              "version_major": 2
            },
            "text/plain": [
              "Validation sanity check: 0it [00:00, ?it/s]"
            ]
          },
          "metadata": {}
        },
        {
          "output_type": "stream",
          "name": "stderr",
          "text": [
            "/usr/local/lib/python3.7/dist-packages/pytorch_lightning/trainer/data_loading.py:106: UserWarning: The dataloader, val dataloader 0, does not have many workers which may be a bottleneck. Consider increasing the value of the `num_workers` argument` (try 4 which is the number of cpus on this machine) in the `DataLoader` init to improve performance.\n",
            "  f\"The dataloader, {name}, does not have many workers which may be a bottleneck.\"\n",
            "/usr/local/lib/python3.7/dist-packages/pytorch_lightning/trainer/data_loading.py:106: UserWarning: The dataloader, train dataloader, does not have many workers which may be a bottleneck. Consider increasing the value of the `num_workers` argument` (try 4 which is the number of cpus on this machine) in the `DataLoader` init to improve performance.\n",
            "  f\"The dataloader, {name}, does not have many workers which may be a bottleneck.\"\n",
            "/usr/local/lib/python3.7/dist-packages/pytorch_lightning/trainer/data_loading.py:327: UserWarning: The number of training samples (39) is smaller than the logging interval Trainer(log_every_n_steps=50). Set a lower value for log_every_n_steps if you want to see logs for the training epoch.\n",
            "  f\"The number of training samples ({self.num_training_batches}) is smaller than the logging interval\"\n"
          ]
        },
        {
          "output_type": "display_data",
          "data": {
            "application/vnd.jupyter.widget-view+json": {
              "model_id": "bad46e6322c246198d30917c6a4847ee",
              "version_minor": 0,
              "version_major": 2
            },
            "text/plain": [
              "Training: -1it [00:00, ?it/s]"
            ]
          },
          "metadata": {}
        },
        {
          "output_type": "display_data",
          "data": {
            "application/vnd.jupyter.widget-view+json": {
              "model_id": "6eea23aa5d6248928a806cea8dc88156",
              "version_minor": 0,
              "version_major": 2
            },
            "text/plain": [
              "Validating: 0it [00:00, ?it/s]"
            ]
          },
          "metadata": {}
        },
        {
          "output_type": "display_data",
          "data": {
            "application/vnd.jupyter.widget-view+json": {
              "model_id": "3c2505ef56b74858b642f014ffdcfdde",
              "version_minor": 0,
              "version_major": 2
            },
            "text/plain": [
              "Validating: 0it [00:00, ?it/s]"
            ]
          },
          "metadata": {}
        },
        {
          "output_type": "display_data",
          "data": {
            "application/vnd.jupyter.widget-view+json": {
              "model_id": "562b29c65d5d488f9fd01969d455aa56",
              "version_minor": 0,
              "version_major": 2
            },
            "text/plain": [
              "Validating: 0it [00:00, ?it/s]"
            ]
          },
          "metadata": {}
        },
        {
          "output_type": "display_data",
          "data": {
            "application/vnd.jupyter.widget-view+json": {
              "model_id": "8b59d46f96e54328a1d516a2063446dd",
              "version_minor": 0,
              "version_major": 2
            },
            "text/plain": [
              "Validating: 0it [00:00, ?it/s]"
            ]
          },
          "metadata": {}
        },
        {
          "output_type": "display_data",
          "data": {
            "application/vnd.jupyter.widget-view+json": {
              "model_id": "2ca40106ee624155a64ef6e9d7f5a80f",
              "version_minor": 0,
              "version_major": 2
            },
            "text/plain": [
              "Validating: 0it [00:00, ?it/s]"
            ]
          },
          "metadata": {}
        },
        {
          "output_type": "display_data",
          "data": {
            "application/vnd.jupyter.widget-view+json": {
              "model_id": "a47bd58fe4254cc1bf5625d191672f49",
              "version_minor": 0,
              "version_major": 2
            },
            "text/plain": [
              "Validating: 0it [00:00, ?it/s]"
            ]
          },
          "metadata": {}
        },
        {
          "output_type": "display_data",
          "data": {
            "application/vnd.jupyter.widget-view+json": {
              "model_id": "c4eb66c089b3480b93942fb39a182a50",
              "version_minor": 0,
              "version_major": 2
            },
            "text/plain": [
              "Validating: 0it [00:00, ?it/s]"
            ]
          },
          "metadata": {}
        },
        {
          "output_type": "display_data",
          "data": {
            "application/vnd.jupyter.widget-view+json": {
              "model_id": "309a1379d5164b57897aeb516d31cba4",
              "version_minor": 0,
              "version_major": 2
            },
            "text/plain": [
              "Validating: 0it [00:00, ?it/s]"
            ]
          },
          "metadata": {}
        },
        {
          "output_type": "display_data",
          "data": {
            "application/vnd.jupyter.widget-view+json": {
              "model_id": "e82c5eb90c2d4466b89017aa90cadbc3",
              "version_minor": 0,
              "version_major": 2
            },
            "text/plain": [
              "Validating: 0it [00:00, ?it/s]"
            ]
          },
          "metadata": {}
        },
        {
          "output_type": "display_data",
          "data": {
            "application/vnd.jupyter.widget-view+json": {
              "model_id": "f8696687dd6d4948a4cc4fb172b954a1",
              "version_minor": 0,
              "version_major": 2
            },
            "text/plain": [
              "Validating: 0it [00:00, ?it/s]"
            ]
          },
          "metadata": {}
        },
        {
          "output_type": "display_data",
          "data": {
            "application/vnd.jupyter.widget-view+json": {
              "model_id": "8cbd9f61a52e4149a18ee2a272ca0ec8",
              "version_minor": 0,
              "version_major": 2
            },
            "text/plain": [
              "Validating: 0it [00:00, ?it/s]"
            ]
          },
          "metadata": {}
        },
        {
          "output_type": "display_data",
          "data": {
            "application/vnd.jupyter.widget-view+json": {
              "model_id": "7ff0fd9c143c4d26857682222a5ec8a1",
              "version_minor": 0,
              "version_major": 2
            },
            "text/plain": [
              "Validating: 0it [00:00, ?it/s]"
            ]
          },
          "metadata": {}
        },
        {
          "output_type": "display_data",
          "data": {
            "application/vnd.jupyter.widget-view+json": {
              "model_id": "06cb2518e1534dbf94d3ae670920578a",
              "version_minor": 0,
              "version_major": 2
            },
            "text/plain": [
              "Validating: 0it [00:00, ?it/s]"
            ]
          },
          "metadata": {}
        },
        {
          "output_type": "display_data",
          "data": {
            "application/vnd.jupyter.widget-view+json": {
              "model_id": "d56f72fc5f634adc8aa0bea42bd19f81",
              "version_minor": 0,
              "version_major": 2
            },
            "text/plain": [
              "Validating: 0it [00:00, ?it/s]"
            ]
          },
          "metadata": {}
        },
        {
          "output_type": "display_data",
          "data": {
            "application/vnd.jupyter.widget-view+json": {
              "model_id": "29f0e600212148de843c4055cbd9f04f",
              "version_minor": 0,
              "version_major": 2
            },
            "text/plain": [
              "Validating: 0it [00:00, ?it/s]"
            ]
          },
          "metadata": {}
        },
        {
          "output_type": "display_data",
          "data": {
            "application/vnd.jupyter.widget-view+json": {
              "model_id": "f263533345e74473b4e910fd43ccb0b0",
              "version_minor": 0,
              "version_major": 2
            },
            "text/plain": [
              "Validating: 0it [00:00, ?it/s]"
            ]
          },
          "metadata": {}
        },
        {
          "output_type": "display_data",
          "data": {
            "application/vnd.jupyter.widget-view+json": {
              "model_id": "5f8ffeea1f9643269a4707ace66eb043",
              "version_minor": 0,
              "version_major": 2
            },
            "text/plain": [
              "Validating: 0it [00:00, ?it/s]"
            ]
          },
          "metadata": {}
        },
        {
          "output_type": "display_data",
          "data": {
            "application/vnd.jupyter.widget-view+json": {
              "model_id": "b95099fce1674423b96ebfc149d587e3",
              "version_minor": 0,
              "version_major": 2
            },
            "text/plain": [
              "Validating: 0it [00:00, ?it/s]"
            ]
          },
          "metadata": {}
        },
        {
          "output_type": "display_data",
          "data": {
            "application/vnd.jupyter.widget-view+json": {
              "model_id": "fc29483e67c24b2a92e9fd6fc3895132",
              "version_minor": 0,
              "version_major": 2
            },
            "text/plain": [
              "Validating: 0it [00:00, ?it/s]"
            ]
          },
          "metadata": {}
        },
        {
          "output_type": "display_data",
          "data": {
            "application/vnd.jupyter.widget-view+json": {
              "model_id": "105725831662462aa05675579f4d0eb1",
              "version_minor": 0,
              "version_major": 2
            },
            "text/plain": [
              "Validating: 0it [00:00, ?it/s]"
            ]
          },
          "metadata": {}
        },
        {
          "output_type": "display_data",
          "data": {
            "application/vnd.jupyter.widget-view+json": {
              "model_id": "782bba3ba734457bb3145b04e4801cc1",
              "version_minor": 0,
              "version_major": 2
            },
            "text/plain": [
              "Validating: 0it [00:00, ?it/s]"
            ]
          },
          "metadata": {}
        },
        {
          "output_type": "display_data",
          "data": {
            "application/vnd.jupyter.widget-view+json": {
              "model_id": "08a79e49f3d740558e444bc67ffd4ca8",
              "version_minor": 0,
              "version_major": 2
            },
            "text/plain": [
              "Validating: 0it [00:00, ?it/s]"
            ]
          },
          "metadata": {}
        },
        {
          "output_type": "display_data",
          "data": {
            "application/vnd.jupyter.widget-view+json": {
              "model_id": "154af7af32fd494b972284e68e3762ed",
              "version_minor": 0,
              "version_major": 2
            },
            "text/plain": [
              "Validating: 0it [00:00, ?it/s]"
            ]
          },
          "metadata": {}
        },
        {
          "output_type": "display_data",
          "data": {
            "application/vnd.jupyter.widget-view+json": {
              "model_id": "32363230a66a43698393a9968b4f209e",
              "version_minor": 0,
              "version_major": 2
            },
            "text/plain": [
              "Validating: 0it [00:00, ?it/s]"
            ]
          },
          "metadata": {}
        },
        {
          "output_type": "display_data",
          "data": {
            "application/vnd.jupyter.widget-view+json": {
              "model_id": "378ca07160b44855a1f9f26229080075",
              "version_minor": 0,
              "version_major": 2
            },
            "text/plain": [
              "Validating: 0it [00:00, ?it/s]"
            ]
          },
          "metadata": {}
        },
        {
          "output_type": "display_data",
          "data": {
            "application/vnd.jupyter.widget-view+json": {
              "model_id": "e596ef7ce1e04efeb912a9fa09cba718",
              "version_minor": 0,
              "version_major": 2
            },
            "text/plain": [
              "Validating: 0it [00:00, ?it/s]"
            ]
          },
          "metadata": {}
        },
        {
          "output_type": "display_data",
          "data": {
            "application/vnd.jupyter.widget-view+json": {
              "model_id": "8661d32099ea4c3d8d30f17833ba7f4a",
              "version_minor": 0,
              "version_major": 2
            },
            "text/plain": [
              "Validating: 0it [00:00, ?it/s]"
            ]
          },
          "metadata": {}
        },
        {
          "output_type": "display_data",
          "data": {
            "application/vnd.jupyter.widget-view+json": {
              "model_id": "60f86803ecf6420c97749f1400cdc5d2",
              "version_minor": 0,
              "version_major": 2
            },
            "text/plain": [
              "Validating: 0it [00:00, ?it/s]"
            ]
          },
          "metadata": {}
        },
        {
          "output_type": "display_data",
          "data": {
            "application/vnd.jupyter.widget-view+json": {
              "model_id": "2fd49859c15647b592a6a40c2436c73b",
              "version_minor": 0,
              "version_major": 2
            },
            "text/plain": [
              "Validating: 0it [00:00, ?it/s]"
            ]
          },
          "metadata": {}
        },
        {
          "output_type": "display_data",
          "data": {
            "application/vnd.jupyter.widget-view+json": {
              "model_id": "f0acf1058b504b7eacb0638d1f71861d",
              "version_minor": 0,
              "version_major": 2
            },
            "text/plain": [
              "Validating: 0it [00:00, ?it/s]"
            ]
          },
          "metadata": {}
        },
        {
          "output_type": "display_data",
          "data": {
            "application/vnd.jupyter.widget-view+json": {
              "model_id": "81a50ccf75144a0e839fdaa8ad733660",
              "version_minor": 0,
              "version_major": 2
            },
            "text/plain": [
              "Validating: 0it [00:00, ?it/s]"
            ]
          },
          "metadata": {}
        },
        {
          "output_type": "display_data",
          "data": {
            "application/vnd.jupyter.widget-view+json": {
              "model_id": "5e6f7b6640104d608b1b98aae6f02862",
              "version_minor": 0,
              "version_major": 2
            },
            "text/plain": [
              "Validating: 0it [00:00, ?it/s]"
            ]
          },
          "metadata": {}
        },
        {
          "output_type": "display_data",
          "data": {
            "application/vnd.jupyter.widget-view+json": {
              "model_id": "d4ff4961955a4cd5be81f05ec5e286cf",
              "version_minor": 0,
              "version_major": 2
            },
            "text/plain": [
              "Validating: 0it [00:00, ?it/s]"
            ]
          },
          "metadata": {}
        },
        {
          "output_type": "display_data",
          "data": {
            "application/vnd.jupyter.widget-view+json": {
              "model_id": "efb49e54953145a490ef4a8cfb33c159",
              "version_minor": 0,
              "version_major": 2
            },
            "text/plain": [
              "Validating: 0it [00:00, ?it/s]"
            ]
          },
          "metadata": {}
        },
        {
          "output_type": "display_data",
          "data": {
            "application/vnd.jupyter.widget-view+json": {
              "model_id": "7c09dcbec8bc4ed1a66c1ad6903b89f9",
              "version_minor": 0,
              "version_major": 2
            },
            "text/plain": [
              "Validating: 0it [00:00, ?it/s]"
            ]
          },
          "metadata": {}
        },
        {
          "output_type": "display_data",
          "data": {
            "application/vnd.jupyter.widget-view+json": {
              "model_id": "33f0d8f71eb9458794fe555f53be388d",
              "version_minor": 0,
              "version_major": 2
            },
            "text/plain": [
              "Validating: 0it [00:00, ?it/s]"
            ]
          },
          "metadata": {}
        },
        {
          "output_type": "display_data",
          "data": {
            "application/vnd.jupyter.widget-view+json": {
              "model_id": "529324b6be444f5f946054f181e3dde5",
              "version_minor": 0,
              "version_major": 2
            },
            "text/plain": [
              "Validating: 0it [00:00, ?it/s]"
            ]
          },
          "metadata": {}
        },
        {
          "output_type": "display_data",
          "data": {
            "application/vnd.jupyter.widget-view+json": {
              "model_id": "f5e1de0ba08f4081a6b3c489ab891e14",
              "version_minor": 0,
              "version_major": 2
            },
            "text/plain": [
              "Validating: 0it [00:00, ?it/s]"
            ]
          },
          "metadata": {}
        },
        {
          "output_type": "display_data",
          "data": {
            "application/vnd.jupyter.widget-view+json": {
              "model_id": "465b8b3703d043c0acd0e31760db4f57",
              "version_minor": 0,
              "version_major": 2
            },
            "text/plain": [
              "Validating: 0it [00:00, ?it/s]"
            ]
          },
          "metadata": {}
        },
        {
          "output_type": "display_data",
          "data": {
            "application/vnd.jupyter.widget-view+json": {
              "model_id": "fb6ab61274ec4dbcb5c9cfa3a1171e65",
              "version_minor": 0,
              "version_major": 2
            },
            "text/plain": [
              "Validating: 0it [00:00, ?it/s]"
            ]
          },
          "metadata": {}
        },
        {
          "output_type": "display_data",
          "data": {
            "application/vnd.jupyter.widget-view+json": {
              "model_id": "8e2702a9dd304843aefbeba1a7eb9bd3",
              "version_minor": 0,
              "version_major": 2
            },
            "text/plain": [
              "Validating: 0it [00:00, ?it/s]"
            ]
          },
          "metadata": {}
        },
        {
          "output_type": "display_data",
          "data": {
            "application/vnd.jupyter.widget-view+json": {
              "model_id": "b37a811d7bd342b3b639324621c8bc6d",
              "version_minor": 0,
              "version_major": 2
            },
            "text/plain": [
              "Validating: 0it [00:00, ?it/s]"
            ]
          },
          "metadata": {}
        },
        {
          "output_type": "display_data",
          "data": {
            "application/vnd.jupyter.widget-view+json": {
              "model_id": "3002ee4171714c6cacbf708714594bd7",
              "version_minor": 0,
              "version_major": 2
            },
            "text/plain": [
              "Validating: 0it [00:00, ?it/s]"
            ]
          },
          "metadata": {}
        },
        {
          "output_type": "display_data",
          "data": {
            "application/vnd.jupyter.widget-view+json": {
              "model_id": "d8acf34215e0462889dc9c9b1b50e28d",
              "version_minor": 0,
              "version_major": 2
            },
            "text/plain": [
              "Validating: 0it [00:00, ?it/s]"
            ]
          },
          "metadata": {}
        },
        {
          "output_type": "display_data",
          "data": {
            "application/vnd.jupyter.widget-view+json": {
              "model_id": "f896e6f098d74a8bad1bd9b19eeffa86",
              "version_minor": 0,
              "version_major": 2
            },
            "text/plain": [
              "Validating: 0it [00:00, ?it/s]"
            ]
          },
          "metadata": {}
        },
        {
          "output_type": "display_data",
          "data": {
            "application/vnd.jupyter.widget-view+json": {
              "model_id": "821ec3b17ba14e139b71b6525d53f035",
              "version_minor": 0,
              "version_major": 2
            },
            "text/plain": [
              "Validating: 0it [00:00, ?it/s]"
            ]
          },
          "metadata": {}
        },
        {
          "output_type": "display_data",
          "data": {
            "application/vnd.jupyter.widget-view+json": {
              "model_id": "4f7fb96533424270acc2a18a2490d117",
              "version_minor": 0,
              "version_major": 2
            },
            "text/plain": [
              "Validating: 0it [00:00, ?it/s]"
            ]
          },
          "metadata": {}
        },
        {
          "output_type": "display_data",
          "data": {
            "application/vnd.jupyter.widget-view+json": {
              "model_id": "b16b6d5b06734f8d8436d88fdc315d6d",
              "version_minor": 0,
              "version_major": 2
            },
            "text/plain": [
              "Validating: 0it [00:00, ?it/s]"
            ]
          },
          "metadata": {}
        },
        {
          "output_type": "display_data",
          "data": {
            "application/vnd.jupyter.widget-view+json": {
              "model_id": "f844480b03b94b57aa8bc37ba9897757",
              "version_minor": 0,
              "version_major": 2
            },
            "text/plain": [
              "Validating: 0it [00:00, ?it/s]"
            ]
          },
          "metadata": {}
        },
        {
          "output_type": "display_data",
          "data": {
            "application/vnd.jupyter.widget-view+json": {
              "model_id": "fe2453c84b7a481a90350c2e1641e1e1",
              "version_minor": 0,
              "version_major": 2
            },
            "text/plain": [
              "Validating: 0it [00:00, ?it/s]"
            ]
          },
          "metadata": {}
        }
      ]
    },
    {
      "cell_type": "markdown",
      "metadata": {
        "id": "WjMmW9Tj5k-j"
      },
      "source": [
        "### Supervised Training Again\n",
        "\n",
        "Extract the state dictionary from BYOL, and load it into our ResNet18 model before starting training.  Then run supervised training, and watch the accuracy improve from last time!"
      ]
    },
    {
      "cell_type": "code",
      "metadata": {
        "id": "JT3ueQrcBeTZ",
        "colab": {
          "base_uri": "https://localhost:8080/",
          "height": 277,
          "referenced_widgets": [
            "f497bdbba91e4cc6ba679236c1c4d7d6",
            "4710f5caa4d247779c120eb8b8edd161",
            "950251450369458c94ee97bca17c42eb",
            "525bf92be297485990a095074443259a",
            "38a5a0cfbeb04a7eaf43097bf778455e",
            "18db5a1d485f4b63979605f881685a3f",
            "b58882b7b9a34f8e8ad09f3492aa00cc",
            "412c69784a2c496b8a75732b4abfb652",
            "260ff96d71e745c5945eabdb4075a6d4",
            "6e41cca2ac5f49c59d25b96bcfeee194",
            "03470f24109f4b008c108ca42412d771",
            "9e14510a626c43f2acd59b4776965759",
            "6b89db44a7cc49e0ae88a1bbe7ea3ac9",
            "d5adc6673a414b4fb82cdbcd2a3708af",
            "85dbdeb8bf5f447bba7c7b20d172c234",
            "5f2664d0e53e4f498eff82411282a579",
            "8f1577a5eed147b89d40f814df9bc89c",
            "a3d925c6947940bfb6984ff106dc7f42",
            "7ce363a03a454cbeb8f7460e66c5749c",
            "6e978bb22e67425f9fbf3f1dd8910def",
            "43606b810bfd4ccc9e3457367f89abb1",
            "29643c1016bd4fa883746eea3e53cf8c"
          ]
        },
        "outputId": "5682adda-9c05-40b1-ec75-bd351535d68d"
      },
      "source": [
        "# Extract the state dictionary, initialize a new ResNet18 model,\n",
        "# and load the state dictionary into the new model.\n",
        "#\n",
        "# This ensures that we remove all hooks from the previous model,\n",
        "# which are automatically implemented by BYOL. model을 model2로 수정\n",
        "state_dict = model2.state_dict()\n",
        "model = resnet50()\n",
        "model.load_state_dict(state_dict)\n",
        "\n",
        "supervised = SupervisedLightningModule(model)\n",
        "trainer = pl.Trainer(\n",
        "    max_epochs=25, \n",
        "    gpus=-1,\n",
        "    weights_summary=None,\n",
        ")\n",
        "train_loader = DataLoader(\n",
        "    TRAIN_DATASET,\n",
        "    batch_size=128,\n",
        "    shuffle=True,\n",
        "    drop_last=True,\n",
        ")\n",
        "trainer.fit(supervised, train_loader, val_loader)"
      ],
      "execution_count": 21,
      "outputs": [
        {
          "output_type": "stream",
          "name": "stderr",
          "text": [
            "GPU available: True, used: True\n",
            "TPU available: False, using: 0 TPU cores\n",
            "IPU available: False, using: 0 IPUs\n",
            "LOCAL_RANK: 0 - CUDA_VISIBLE_DEVICES: [0]\n"
          ]
        },
        {
          "output_type": "display_data",
          "data": {
            "application/vnd.jupyter.widget-view+json": {
              "model_id": "f497bdbba91e4cc6ba679236c1c4d7d6",
              "version_minor": 0,
              "version_major": 2
            },
            "text/plain": [
              "Validation sanity check: 0it [00:00, ?it/s]"
            ]
          },
          "metadata": {}
        },
        {
          "output_type": "stream",
          "name": "stderr",
          "text": [
            "/usr/local/lib/python3.7/dist-packages/pytorch_lightning/trainer/data_loading.py:106: UserWarning: The dataloader, val dataloader 0, does not have many workers which may be a bottleneck. Consider increasing the value of the `num_workers` argument` (try 4 which is the number of cpus on this machine) in the `DataLoader` init to improve performance.\n",
            "  f\"The dataloader, {name}, does not have many workers which may be a bottleneck.\"\n",
            "/usr/local/lib/python3.7/dist-packages/pytorch_lightning/trainer/data_loading.py:106: UserWarning: The dataloader, train dataloader, does not have many workers which may be a bottleneck. Consider increasing the value of the `num_workers` argument` (try 4 which is the number of cpus on this machine) in the `DataLoader` init to improve performance.\n",
            "  f\"The dataloader, {name}, does not have many workers which may be a bottleneck.\"\n",
            "/usr/local/lib/python3.7/dist-packages/pytorch_lightning/trainer/data_loading.py:327: UserWarning: The number of training samples (39) is smaller than the logging interval Trainer(log_every_n_steps=50). Set a lower value for log_every_n_steps if you want to see logs for the training epoch.\n",
            "  f\"The number of training samples ({self.num_training_batches}) is smaller than the logging interval\"\n"
          ]
        },
        {
          "output_type": "display_data",
          "data": {
            "application/vnd.jupyter.widget-view+json": {
              "model_id": "9e14510a626c43f2acd59b4776965759",
              "version_minor": 0,
              "version_major": 2
            },
            "text/plain": [
              "Training: -1it [00:00, ?it/s]"
            ]
          },
          "metadata": {}
        },
        {
          "output_type": "display_data",
          "data": {
            "application/vnd.jupyter.widget-view+json": {
              "model_id": "86aefbe03ccf47a4bf4c34ebb4b2f7bd",
              "version_minor": 0,
              "version_major": 2
            },
            "text/plain": [
              "Validating: 0it [00:00, ?it/s]"
            ]
          },
          "metadata": {}
        },
        {
          "output_type": "display_data",
          "data": {
            "application/vnd.jupyter.widget-view+json": {
              "model_id": "854cec7f6e024338966924f30f622be4",
              "version_minor": 0,
              "version_major": 2
            },
            "text/plain": [
              "Validating: 0it [00:00, ?it/s]"
            ]
          },
          "metadata": {}
        },
        {
          "output_type": "display_data",
          "data": {
            "application/vnd.jupyter.widget-view+json": {
              "model_id": "0249317908064d15be9bd161dc85c8e2",
              "version_minor": 0,
              "version_major": 2
            },
            "text/plain": [
              "Validating: 0it [00:00, ?it/s]"
            ]
          },
          "metadata": {}
        },
        {
          "output_type": "display_data",
          "data": {
            "application/vnd.jupyter.widget-view+json": {
              "model_id": "bfd2a19a32a94b8aabc463946599e66f",
              "version_minor": 0,
              "version_major": 2
            },
            "text/plain": [
              "Validating: 0it [00:00, ?it/s]"
            ]
          },
          "metadata": {}
        },
        {
          "output_type": "display_data",
          "data": {
            "application/vnd.jupyter.widget-view+json": {
              "model_id": "1e72b7292859420ba308e28b5ec1b3ff",
              "version_minor": 0,
              "version_major": 2
            },
            "text/plain": [
              "Validating: 0it [00:00, ?it/s]"
            ]
          },
          "metadata": {}
        },
        {
          "output_type": "display_data",
          "data": {
            "application/vnd.jupyter.widget-view+json": {
              "model_id": "b17f643b00bd4db1a44de894b710819c",
              "version_minor": 0,
              "version_major": 2
            },
            "text/plain": [
              "Validating: 0it [00:00, ?it/s]"
            ]
          },
          "metadata": {}
        },
        {
          "output_type": "display_data",
          "data": {
            "application/vnd.jupyter.widget-view+json": {
              "model_id": "6c6ca4726c234d9c843736cd0547904b",
              "version_minor": 0,
              "version_major": 2
            },
            "text/plain": [
              "Validating: 0it [00:00, ?it/s]"
            ]
          },
          "metadata": {}
        },
        {
          "output_type": "display_data",
          "data": {
            "application/vnd.jupyter.widget-view+json": {
              "model_id": "f5ab4339e0404f86b3cb2baa78c1a701",
              "version_minor": 0,
              "version_major": 2
            },
            "text/plain": [
              "Validating: 0it [00:00, ?it/s]"
            ]
          },
          "metadata": {}
        },
        {
          "output_type": "display_data",
          "data": {
            "application/vnd.jupyter.widget-view+json": {
              "model_id": "4827f3e444f74e38891bc0731377ad27",
              "version_minor": 0,
              "version_major": 2
            },
            "text/plain": [
              "Validating: 0it [00:00, ?it/s]"
            ]
          },
          "metadata": {}
        },
        {
          "output_type": "display_data",
          "data": {
            "application/vnd.jupyter.widget-view+json": {
              "model_id": "e9a9957825d840b69fd5e5b833162c91",
              "version_minor": 0,
              "version_major": 2
            },
            "text/plain": [
              "Validating: 0it [00:00, ?it/s]"
            ]
          },
          "metadata": {}
        },
        {
          "output_type": "display_data",
          "data": {
            "application/vnd.jupyter.widget-view+json": {
              "model_id": "7b2284470f7740849ab6d58a0aa613e1",
              "version_minor": 0,
              "version_major": 2
            },
            "text/plain": [
              "Validating: 0it [00:00, ?it/s]"
            ]
          },
          "metadata": {}
        },
        {
          "output_type": "display_data",
          "data": {
            "application/vnd.jupyter.widget-view+json": {
              "model_id": "c979e9faac2749239289a81f1b00926a",
              "version_minor": 0,
              "version_major": 2
            },
            "text/plain": [
              "Validating: 0it [00:00, ?it/s]"
            ]
          },
          "metadata": {}
        },
        {
          "output_type": "display_data",
          "data": {
            "application/vnd.jupyter.widget-view+json": {
              "model_id": "1117eab31b3c4d87bf4211a9d1f8b5aa",
              "version_minor": 0,
              "version_major": 2
            },
            "text/plain": [
              "Validating: 0it [00:00, ?it/s]"
            ]
          },
          "metadata": {}
        },
        {
          "output_type": "display_data",
          "data": {
            "application/vnd.jupyter.widget-view+json": {
              "model_id": "99312e1ac8ad47a08339d738db41dce7",
              "version_minor": 0,
              "version_major": 2
            },
            "text/plain": [
              "Validating: 0it [00:00, ?it/s]"
            ]
          },
          "metadata": {}
        },
        {
          "output_type": "display_data",
          "data": {
            "application/vnd.jupyter.widget-view+json": {
              "model_id": "1c6633ab8298465eb431dbb8a1ff2146",
              "version_minor": 0,
              "version_major": 2
            },
            "text/plain": [
              "Validating: 0it [00:00, ?it/s]"
            ]
          },
          "metadata": {}
        },
        {
          "output_type": "display_data",
          "data": {
            "application/vnd.jupyter.widget-view+json": {
              "model_id": "a3e9c7ba95b143d3979670b4bbb8fb90",
              "version_minor": 0,
              "version_major": 2
            },
            "text/plain": [
              "Validating: 0it [00:00, ?it/s]"
            ]
          },
          "metadata": {}
        },
        {
          "output_type": "display_data",
          "data": {
            "application/vnd.jupyter.widget-view+json": {
              "model_id": "e4468a7b4b964536be68ac280a98243d",
              "version_minor": 0,
              "version_major": 2
            },
            "text/plain": [
              "Validating: 0it [00:00, ?it/s]"
            ]
          },
          "metadata": {}
        },
        {
          "output_type": "display_data",
          "data": {
            "application/vnd.jupyter.widget-view+json": {
              "model_id": "6d4f76108273401ba1079219b547cb6f",
              "version_minor": 0,
              "version_major": 2
            },
            "text/plain": [
              "Validating: 0it [00:00, ?it/s]"
            ]
          },
          "metadata": {}
        },
        {
          "output_type": "display_data",
          "data": {
            "application/vnd.jupyter.widget-view+json": {
              "model_id": "96328100fe0d4b3d99209875356384ca",
              "version_minor": 0,
              "version_major": 2
            },
            "text/plain": [
              "Validating: 0it [00:00, ?it/s]"
            ]
          },
          "metadata": {}
        },
        {
          "output_type": "display_data",
          "data": {
            "application/vnd.jupyter.widget-view+json": {
              "model_id": "d55968d3912843198daba32e1e4f7532",
              "version_minor": 0,
              "version_major": 2
            },
            "text/plain": [
              "Validating: 0it [00:00, ?it/s]"
            ]
          },
          "metadata": {}
        },
        {
          "output_type": "display_data",
          "data": {
            "application/vnd.jupyter.widget-view+json": {
              "model_id": "e2e0a6384d5546f3ac25f3c9d315d753",
              "version_minor": 0,
              "version_major": 2
            },
            "text/plain": [
              "Validating: 0it [00:00, ?it/s]"
            ]
          },
          "metadata": {}
        },
        {
          "output_type": "display_data",
          "data": {
            "application/vnd.jupyter.widget-view+json": {
              "model_id": "0b7916691dab4ce6aaaf8c3522a8a950",
              "version_minor": 0,
              "version_major": 2
            },
            "text/plain": [
              "Validating: 0it [00:00, ?it/s]"
            ]
          },
          "metadata": {}
        },
        {
          "output_type": "display_data",
          "data": {
            "application/vnd.jupyter.widget-view+json": {
              "model_id": "fa6e1d3836214707a53c04101ddc1990",
              "version_minor": 0,
              "version_major": 2
            },
            "text/plain": [
              "Validating: 0it [00:00, ?it/s]"
            ]
          },
          "metadata": {}
        },
        {
          "output_type": "display_data",
          "data": {
            "application/vnd.jupyter.widget-view+json": {
              "model_id": "7e2e447df3304f68b04d84d3def22437",
              "version_minor": 0,
              "version_major": 2
            },
            "text/plain": [
              "Validating: 0it [00:00, ?it/s]"
            ]
          },
          "metadata": {}
        },
        {
          "output_type": "display_data",
          "data": {
            "application/vnd.jupyter.widget-view+json": {
              "model_id": "86f6d22fce514ed3b7680f98991cc941",
              "version_minor": 0,
              "version_major": 2
            },
            "text/plain": [
              "Validating: 0it [00:00, ?it/s]"
            ]
          },
          "metadata": {}
        }
      ]
    },
    {
      "cell_type": "code",
      "metadata": {
        "id": "PhBpGlQpqYhz",
        "colab": {
          "base_uri": "https://localhost:8080/"
        },
        "outputId": "574cb0e5-ebc2-4851-9a40-1d8d7423bc7a"
      },
      "source": [
        "def accuracy(pred: Tensor, labels: Tensor) -> float:\n",
        "    return (pred.argmax(dim=-1) == labels).float().mean().item()\n",
        "\n",
        "\n",
        "model.cuda()\n",
        "acc = sum([accuracy(model(x.cuda()), y.cuda()) for x, y in val_loader]) / len(val_loader)\n",
        "print(f\"Accuracy: {acc:.3f}\")"
      ],
      "execution_count": 22,
      "outputs": [
        {
          "output_type": "stream",
          "name": "stdout",
          "text": [
            "Accuracy: 0.879\n"
          ]
        }
      ]
    },
    {
      "cell_type": "markdown",
      "metadata": {
        "id": "AjF4djVw6CGD"
      },
      "source": [
        "![penguin.gif](data:image/gif;base64,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)"
      ]
    }
  ]
}