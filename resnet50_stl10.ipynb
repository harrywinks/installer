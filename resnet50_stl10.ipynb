{
  "nbformat": 4,
  "nbformat_minor": 0,
  "metadata": {
    "kernelspec": {
      "display_name": "pytorch",
      "language": "python",
      "name": "pytorch"
    },
    "language_info": {
      "codemirror_mode": {
        "name": "ipython",
        "version": 3
      },
      "file_extension": ".py",
      "mimetype": "text/x-python",
      "name": "python",
      "nbconvert_exporter": "python",
      "pygments_lexer": "ipython3",
      "version": "3.6.6"
    },
    "colab": {
      "name": "resnet50_stl10.ipynb",
      "provenance": [],
      "machine_shape": "hm",
      "include_colab_link": true
    },
    "accelerator": "GPU",
    "widgets": {
      "application/vnd.jupyter.widget-state+json": {
        "5b6e0aa318234313946f713917be4d93": {
          "model_module": "@jupyter-widgets/controls",
          "model_name": "HBoxModel",
          "model_module_version": "1.5.0",
          "state": {
            "_view_name": "HBoxView",
            "_dom_classes": [],
            "_model_name": "HBoxModel",
            "_view_module": "@jupyter-widgets/controls",
            "_model_module_version": "1.5.0",
            "_view_count": null,
            "_view_module_version": "1.5.0",
            "box_style": "",
            "layout": "IPY_MODEL_57dc4f582b524ae280edde892c8e505b",
            "_model_module": "@jupyter-widgets/controls",
            "children": [
              "IPY_MODEL_b88d37d6eef9434daa0625160fc0038d",
              "IPY_MODEL_cdcb166e8cba471daa8e6bddcd347956",
              "IPY_MODEL_5c0c11d14daa49bea49d9f4aa8a6a4ed"
            ]
          }
        },
        "57dc4f582b524ae280edde892c8e505b": {
          "model_module": "@jupyter-widgets/base",
          "model_name": "LayoutModel",
          "model_module_version": "1.2.0",
          "state": {
            "_view_name": "LayoutView",
            "grid_template_rows": null,
            "right": null,
            "justify_content": null,
            "_view_module": "@jupyter-widgets/base",
            "overflow": null,
            "_model_module_version": "1.2.0",
            "_view_count": null,
            "flex_flow": null,
            "width": null,
            "min_width": null,
            "border": null,
            "align_items": null,
            "bottom": null,
            "_model_module": "@jupyter-widgets/base",
            "top": null,
            "grid_column": null,
            "overflow_y": null,
            "overflow_x": null,
            "grid_auto_flow": null,
            "grid_area": null,
            "grid_template_columns": null,
            "flex": null,
            "_model_name": "LayoutModel",
            "justify_items": null,
            "grid_row": null,
            "max_height": null,
            "align_content": null,
            "visibility": null,
            "align_self": null,
            "height": null,
            "min_height": null,
            "padding": null,
            "grid_auto_rows": null,
            "grid_gap": null,
            "max_width": null,
            "order": null,
            "_view_module_version": "1.2.0",
            "grid_template_areas": null,
            "object_position": null,
            "object_fit": null,
            "grid_auto_columns": null,
            "margin": null,
            "display": null,
            "left": null
          }
        },
        "b88d37d6eef9434daa0625160fc0038d": {
          "model_module": "@jupyter-widgets/controls",
          "model_name": "HTMLModel",
          "model_module_version": "1.5.0",
          "state": {
            "_view_name": "HTMLView",
            "style": "IPY_MODEL_69cfbe704058419594c143f07afbaf0e",
            "_dom_classes": [],
            "description": "",
            "_model_name": "HTMLModel",
            "placeholder": "​",
            "_view_module": "@jupyter-widgets/controls",
            "_model_module_version": "1.5.0",
            "value": "",
            "_view_count": null,
            "_view_module_version": "1.5.0",
            "description_tooltip": null,
            "_model_module": "@jupyter-widgets/controls",
            "layout": "IPY_MODEL_814f280d04b446ffa236fe7b0bd5441b"
          }
        },
        "cdcb166e8cba471daa8e6bddcd347956": {
          "model_module": "@jupyter-widgets/controls",
          "model_name": "FloatProgressModel",
          "model_module_version": "1.5.0",
          "state": {
            "_view_name": "ProgressView",
            "style": "IPY_MODEL_f2bdfce996ea49f6b137bcc693d32362",
            "_dom_classes": [],
            "description": "",
            "_model_name": "FloatProgressModel",
            "bar_style": "success",
            "max": 2640397119,
            "_view_module": "@jupyter-widgets/controls",
            "_model_module_version": "1.5.0",
            "value": 2640397119,
            "_view_count": null,
            "_view_module_version": "1.5.0",
            "orientation": "horizontal",
            "min": 0,
            "description_tooltip": null,
            "_model_module": "@jupyter-widgets/controls",
            "layout": "IPY_MODEL_95d4936afdee4efcbe7f35e497f2192c"
          }
        },
        "5c0c11d14daa49bea49d9f4aa8a6a4ed": {
          "model_module": "@jupyter-widgets/controls",
          "model_name": "HTMLModel",
          "model_module_version": "1.5.0",
          "state": {
            "_view_name": "HTMLView",
            "style": "IPY_MODEL_c53cdfa32c9c41459b5de7cb1026be9e",
            "_dom_classes": [],
            "description": "",
            "_model_name": "HTMLModel",
            "placeholder": "​",
            "_view_module": "@jupyter-widgets/controls",
            "_model_module_version": "1.5.0",
            "value": " 2640397312/? [02:14&lt;00:00, 102524364.52it/s]",
            "_view_count": null,
            "_view_module_version": "1.5.0",
            "description_tooltip": null,
            "_model_module": "@jupyter-widgets/controls",
            "layout": "IPY_MODEL_61c8c9c553ca49a79a7598d24a42f62b"
          }
        },
        "69cfbe704058419594c143f07afbaf0e": {
          "model_module": "@jupyter-widgets/controls",
          "model_name": "DescriptionStyleModel",
          "model_module_version": "1.5.0",
          "state": {
            "_view_name": "StyleView",
            "_model_name": "DescriptionStyleModel",
            "description_width": "",
            "_view_module": "@jupyter-widgets/base",
            "_model_module_version": "1.5.0",
            "_view_count": null,
            "_view_module_version": "1.2.0",
            "_model_module": "@jupyter-widgets/controls"
          }
        },
        "814f280d04b446ffa236fe7b0bd5441b": {
          "model_module": "@jupyter-widgets/base",
          "model_name": "LayoutModel",
          "model_module_version": "1.2.0",
          "state": {
            "_view_name": "LayoutView",
            "grid_template_rows": null,
            "right": null,
            "justify_content": null,
            "_view_module": "@jupyter-widgets/base",
            "overflow": null,
            "_model_module_version": "1.2.0",
            "_view_count": null,
            "flex_flow": null,
            "width": null,
            "min_width": null,
            "border": null,
            "align_items": null,
            "bottom": null,
            "_model_module": "@jupyter-widgets/base",
            "top": null,
            "grid_column": null,
            "overflow_y": null,
            "overflow_x": null,
            "grid_auto_flow": null,
            "grid_area": null,
            "grid_template_columns": null,
            "flex": null,
            "_model_name": "LayoutModel",
            "justify_items": null,
            "grid_row": null,
            "max_height": null,
            "align_content": null,
            "visibility": null,
            "align_self": null,
            "height": null,
            "min_height": null,
            "padding": null,
            "grid_auto_rows": null,
            "grid_gap": null,
            "max_width": null,
            "order": null,
            "_view_module_version": "1.2.0",
            "grid_template_areas": null,
            "object_position": null,
            "object_fit": null,
            "grid_auto_columns": null,
            "margin": null,
            "display": null,
            "left": null
          }
        },
        "f2bdfce996ea49f6b137bcc693d32362": {
          "model_module": "@jupyter-widgets/controls",
          "model_name": "ProgressStyleModel",
          "model_module_version": "1.5.0",
          "state": {
            "_view_name": "StyleView",
            "_model_name": "ProgressStyleModel",
            "description_width": "",
            "_view_module": "@jupyter-widgets/base",
            "_model_module_version": "1.5.0",
            "_view_count": null,
            "_view_module_version": "1.2.0",
            "bar_color": null,
            "_model_module": "@jupyter-widgets/controls"
          }
        },
        "95d4936afdee4efcbe7f35e497f2192c": {
          "model_module": "@jupyter-widgets/base",
          "model_name": "LayoutModel",
          "model_module_version": "1.2.0",
          "state": {
            "_view_name": "LayoutView",
            "grid_template_rows": null,
            "right": null,
            "justify_content": null,
            "_view_module": "@jupyter-widgets/base",
            "overflow": null,
            "_model_module_version": "1.2.0",
            "_view_count": null,
            "flex_flow": null,
            "width": null,
            "min_width": null,
            "border": null,
            "align_items": null,
            "bottom": null,
            "_model_module": "@jupyter-widgets/base",
            "top": null,
            "grid_column": null,
            "overflow_y": null,
            "overflow_x": null,
            "grid_auto_flow": null,
            "grid_area": null,
            "grid_template_columns": null,
            "flex": null,
            "_model_name": "LayoutModel",
            "justify_items": null,
            "grid_row": null,
            "max_height": null,
            "align_content": null,
            "visibility": null,
            "align_self": null,
            "height": null,
            "min_height": null,
            "padding": null,
            "grid_auto_rows": null,
            "grid_gap": null,
            "max_width": null,
            "order": null,
            "_view_module_version": "1.2.0",
            "grid_template_areas": null,
            "object_position": null,
            "object_fit": null,
            "grid_auto_columns": null,
            "margin": null,
            "display": null,
            "left": null
          }
        },
        "c53cdfa32c9c41459b5de7cb1026be9e": {
          "model_module": "@jupyter-widgets/controls",
          "model_name": "DescriptionStyleModel",
          "model_module_version": "1.5.0",
          "state": {
            "_view_name": "StyleView",
            "_model_name": "DescriptionStyleModel",
            "description_width": "",
            "_view_module": "@jupyter-widgets/base",
            "_model_module_version": "1.5.0",
            "_view_count": null,
            "_view_module_version": "1.2.0",
            "_model_module": "@jupyter-widgets/controls"
          }
        },
        "61c8c9c553ca49a79a7598d24a42f62b": {
          "model_module": "@jupyter-widgets/base",
          "model_name": "LayoutModel",
          "model_module_version": "1.2.0",
          "state": {
            "_view_name": "LayoutView",
            "grid_template_rows": null,
            "right": null,
            "justify_content": null,
            "_view_module": "@jupyter-widgets/base",
            "overflow": null,
            "_model_module_version": "1.2.0",
            "_view_count": null,
            "flex_flow": null,
            "width": null,
            "min_width": null,
            "border": null,
            "align_items": null,
            "bottom": null,
            "_model_module": "@jupyter-widgets/base",
            "top": null,
            "grid_column": null,
            "overflow_y": null,
            "overflow_x": null,
            "grid_auto_flow": null,
            "grid_area": null,
            "grid_template_columns": null,
            "flex": null,
            "_model_name": "LayoutModel",
            "justify_items": null,
            "grid_row": null,
            "max_height": null,
            "align_content": null,
            "visibility": null,
            "align_self": null,
            "height": null,
            "min_height": null,
            "padding": null,
            "grid_auto_rows": null,
            "grid_gap": null,
            "max_width": null,
            "order": null,
            "_view_module_version": "1.2.0",
            "grid_template_areas": null,
            "object_position": null,
            "object_fit": null,
            "grid_auto_columns": null,
            "margin": null,
            "display": null,
            "left": null
          }
        }
      }
    }
  },
  "cells": [
    {
      "cell_type": "markdown",
      "metadata": {
        "id": "view-in-github",
        "colab_type": "text"
      },
      "source": [
        "<a href=\"https://colab.research.google.com/github/harrywinks/installer/blob/main/resnet50_stl10.ipynb\" target=\"_parent\"><img src=\"https://colab.research.google.com/assets/colab-badge.svg\" alt=\"Open In Colab\"/></a>"
      ]
    },
    {
      "cell_type": "code",
      "metadata": {
        "id": "YUemQib7ZE4D"
      },
      "source": [
        "import torch\n",
        "import sys\n",
        "import numpy as np\n",
        "import os\n",
        "import yaml\n",
        "import matplotlib.pyplot as plt\n",
        "import torchvision"
      ],
      "execution_count": null,
      "outputs": []
    },
    {
      "cell_type": "code",
      "metadata": {
        "id": "WSgRE1CcLqdS",
        "colab": {
          "base_uri": "https://localhost:8080/"
        },
        "outputId": "8ea42c95-07b2-4b9d-9768-01a0daf11e3e"
      },
      "source": [
        "!pip install gdown"
      ],
      "execution_count": null,
      "outputs": [
        {
          "output_type": "stream",
          "name": "stdout",
          "text": [
            "Requirement already satisfied: gdown in /usr/local/lib/python3.7/dist-packages (3.6.4)\n",
            "Requirement already satisfied: six in /usr/local/lib/python3.7/dist-packages (from gdown) (1.15.0)\n",
            "Requirement already satisfied: tqdm in /usr/local/lib/python3.7/dist-packages (from gdown) (4.62.3)\n",
            "Requirement already satisfied: requests in /usr/local/lib/python3.7/dist-packages (from gdown) (2.23.0)\n",
            "Requirement already satisfied: chardet<4,>=3.0.2 in /usr/local/lib/python3.7/dist-packages (from requests->gdown) (3.0.4)\n",
            "Requirement already satisfied: idna<3,>=2.5 in /usr/local/lib/python3.7/dist-packages (from requests->gdown) (2.10)\n",
            "Requirement already satisfied: urllib3!=1.25.0,!=1.25.1,<1.26,>=1.21.1 in /usr/local/lib/python3.7/dist-packages (from requests->gdown) (1.24.3)\n",
            "Requirement already satisfied: certifi>=2017.4.17 in /usr/local/lib/python3.7/dist-packages (from requests->gdown) (2021.5.30)\n"
          ]
        }
      ]
    },
    {
      "cell_type": "code",
      "metadata": {
        "id": "NOIJEui1ZziV"
      },
      "source": [
        "def get_file_id_by_model(folder_name):\n",
        "  file_id = {'resnet18_100-epochs_stl10': '14_nH2FkyKbt61cieQDiSbBVNP8-gtwgF',\n",
        "             'resnet18_100-epochs_cifar10': '1lc2aoVtrAetGn0PnTkOyFzPCIucOJq7C',\n",
        "             'resnet50_50-epochs_stl10': '1ByTKAUsdm_X7tLcii6oAEl5qFRqRMZSu'}\n",
        "  return file_id.get(folder_name, \"Model not found.\")"
      ],
      "execution_count": null,
      "outputs": []
    },
    {
      "cell_type": "code",
      "metadata": {
        "id": "G7YMxsvEZMrX",
        "colab": {
          "base_uri": "https://localhost:8080/"
        },
        "outputId": "9f4068af-af2d-437e-e9f2-21c686fc6a35"
      },
      "source": [
        "folder_name = 'resnet50_50-epochs_stl10'\n",
        "# folresnet50_50-epochs_stl10\n",
        "file_id = get_file_id_by_model(folder_name)\n",
        "print(folder_name, file_id)"
      ],
      "execution_count": null,
      "outputs": [
        {
          "output_type": "stream",
          "name": "stdout",
          "text": [
            "resnet50_50-epochs_stl10 1ByTKAUsdm_X7tLcii6oAEl5qFRqRMZSu\n"
          ]
        }
      ]
    },
    {
      "cell_type": "code",
      "metadata": {
        "id": "PWZ8fet_YoJm",
        "colab": {
          "base_uri": "https://localhost:8080/"
        },
        "outputId": "5dac53e0-a0f8-4f88-9d91-6b54be881a70"
      },
      "source": [
        "# download and extract model files\n",
        "os.system('gdown https://drive.google.com/uc?id={}'.format(file_id))\n",
        "os.system('unzip {}'.format(folder_name))\n",
        "!ls"
      ],
      "execution_count": null,
      "outputs": [
        {
          "output_type": "stream",
          "name": "stdout",
          "text": [
            "checkpoint_0040.pth.tar\n",
            "config.yml\n",
            "events.out.tfevents.1610927742.4cb2c837708d.2694093.0\n",
            "resnet50_50-epochs_stl10.zip\n",
            "sample_data\n",
            "training.log\n"
          ]
        }
      ]
    },
    {
      "cell_type": "code",
      "metadata": {
        "id": "3_nypQVEv-hn"
      },
      "source": [
        "from torch.utils.data import DataLoader\n",
        "import torchvision.transforms as transforms\n",
        "from torchvision import datasets"
      ],
      "execution_count": null,
      "outputs": []
    },
    {
      "cell_type": "code",
      "metadata": {
        "id": "lDfbL3w_Z0Od",
        "colab": {
          "base_uri": "https://localhost:8080/"
        },
        "outputId": "c4a79cb3-9d56-4a73-dad1-fb431a28eaf8"
      },
      "source": [
        "device = 'cuda' if torch.cuda.is_available() else 'cpu'\n",
        "print(\"Using device:\", device)"
      ],
      "execution_count": null,
      "outputs": [
        {
          "output_type": "stream",
          "name": "stdout",
          "text": [
            "Using device: cuda\n"
          ]
        }
      ]
    },
    {
      "cell_type": "code",
      "metadata": {
        "id": "BfIPl0G6_RrT"
      },
      "source": [
        "def get_stl10_data_loaders(download, batch_size=256):\n",
        "  train_dataset = datasets.STL10('./data', split='train', download=download,\n",
        "                                  transform=transforms.ToTensor())\n",
        "\n",
        "  train_loader = DataLoader(train_dataset, batch_size=batch_size,\n",
        "                            num_workers=10, drop_last=False, shuffle=True)\n",
        "  \n",
        "  test_dataset = datasets.STL10('./data', split='test', download=download,\n",
        "                                  transform=transforms.ToTensor())\n",
        "\n",
        "  test_loader = DataLoader(test_dataset, batch_size=2*batch_size,\n",
        "                            num_workers=10, drop_last=False, shuffle=False)\n",
        "  return train_loader, test_loader\n",
        "\n",
        "def get_cifar10_data_loaders(download, shuffle=False, batch_size=256):\n",
        "  train_dataset = datasets.CIFAR10('./data', train=True, download=download,\n",
        "                                  transform=transforms.ToTensor())\n",
        "\n",
        "  train_loader = DataLoader(train_dataset, batch_size=batch_size,\n",
        "                            num_workers=10, drop_last=False, shuffle=True)\n",
        "  \n",
        "  test_dataset = datasets.CIFAR10('./data', train=False, download=download,\n",
        "                                  transform=transforms.ToTensor())\n",
        "\n",
        "  test_loader = DataLoader(test_dataset, batch_size=2*batch_size,\n",
        "                            num_workers=10, drop_last=False, shuffle=False)\n",
        "  return train_loader, test_loader"
      ],
      "execution_count": null,
      "outputs": []
    },
    {
      "cell_type": "code",
      "metadata": {
        "id": "6N8lYkbmDTaK"
      },
      "source": [
        "with open(os.path.join('./config.yml')) as file:\n",
        "  config = yaml.load(file)"
      ],
      "execution_count": null,
      "outputs": []
    },
    {
      "cell_type": "code",
      "metadata": {
        "id": "a18lPD-tIle6"
      },
      "source": [
        "if config.arch == 'resnet18':\n",
        "  model = torchvision.models.resnet18(pretrained=False, num_classes=10).to(device)\n",
        "elif config.arch == 'resnet50':\n",
        "  model = torchvision.models.resnet50(pretrained=False, num_classes=10).to(device)"
      ],
      "execution_count": null,
      "outputs": []
    },
    {
      "cell_type": "code",
      "metadata": {
        "id": "4AIfgq41GuTT"
      },
      "source": [
        "checkpoint = torch.load('checkpoint_0040.pth.tar', map_location=device)\n",
        "state_dict = checkpoint['state_dict']\n",
        "\n",
        "for k in list(state_dict.keys()):\n",
        "\n",
        "  if k.startswith('backbone.'):\n",
        "    if k.startswith('backbone') and not k.startswith('backbone.fc'):\n",
        "      # remove prefix\n",
        "      state_dict[k[len(\"backbone.\"):]] = state_dict[k]\n",
        "  del state_dict[k]"
      ],
      "execution_count": null,
      "outputs": []
    },
    {
      "cell_type": "code",
      "metadata": {
        "id": "VVjA83PPJYWl"
      },
      "source": [
        "log = model.load_state_dict(state_dict, strict=False)\n",
        "assert log.missing_keys == ['fc.weight', 'fc.bias']"
      ],
      "execution_count": null,
      "outputs": []
    },
    {
      "cell_type": "code",
      "metadata": {
        "id": "_GC0a14uWRr6",
        "colab": {
          "base_uri": "https://localhost:8080/",
          "height": 170,
          "referenced_widgets": [
            "5b6e0aa318234313946f713917be4d93",
            "57dc4f582b524ae280edde892c8e505b",
            "b88d37d6eef9434daa0625160fc0038d",
            "cdcb166e8cba471daa8e6bddcd347956",
            "5c0c11d14daa49bea49d9f4aa8a6a4ed",
            "69cfbe704058419594c143f07afbaf0e",
            "814f280d04b446ffa236fe7b0bd5441b",
            "f2bdfce996ea49f6b137bcc693d32362",
            "95d4936afdee4efcbe7f35e497f2192c",
            "c53cdfa32c9c41459b5de7cb1026be9e",
            "61c8c9c553ca49a79a7598d24a42f62b"
          ]
        },
        "outputId": "360cdadf-a891-4e2e-b78d-d716eaa45090"
      },
      "source": [
        "if config.dataset_name == 'cifar10':\n",
        "  train_loader, test_loader = get_cifar10_data_loaders(download=True)\n",
        "elif config.dataset_name == 'stl10':\n",
        "  train_loader, test_loader = get_stl10_data_loaders(download=True)\n",
        "print(\"Dataset:\", config.dataset_name)"
      ],
      "execution_count": null,
      "outputs": [
        {
          "output_type": "stream",
          "name": "stdout",
          "text": [
            "Downloading http://ai.stanford.edu/~acoates/stl10/stl10_binary.tar.gz to ./data/stl10_binary.tar.gz\n"
          ]
        },
        {
          "output_type": "display_data",
          "data": {
            "application/vnd.jupyter.widget-view+json": {
              "model_id": "5b6e0aa318234313946f713917be4d93",
              "version_minor": 0,
              "version_major": 2
            },
            "text/plain": [
              "  0%|          | 0/2640397119 [00:00<?, ?it/s]"
            ]
          },
          "metadata": {}
        },
        {
          "output_type": "stream",
          "name": "stdout",
          "text": [
            "Extracting ./data/stl10_binary.tar.gz to ./data\n"
          ]
        },
        {
          "output_type": "stream",
          "name": "stderr",
          "text": [
            "/usr/local/lib/python3.7/dist-packages/torch/utils/data/dataloader.py:481: UserWarning: This DataLoader will create 10 worker processes in total. Our suggested max number of worker in current system is 4, which is smaller than what this DataLoader is going to create. Please be aware that excessive worker creation might get DataLoader running slow or even freeze, lower the worker number to avoid potential slowness/freeze if necessary.\n",
            "  cpuset_checked))\n"
          ]
        },
        {
          "output_type": "stream",
          "name": "stdout",
          "text": [
            "Files already downloaded and verified\n",
            "Dataset: stl10\n"
          ]
        }
      ]
    },
    {
      "cell_type": "code",
      "metadata": {
        "id": "pYT_KsM0Mnnr"
      },
      "source": [
        "# freeze all layers but the last fc\n",
        "for name, param in model.named_parameters():\n",
        "    if name not in ['fc.weight', 'fc.bias']:\n",
        "        param.requires_grad = False\n",
        "\n",
        "parameters = list(filter(lambda p: p.requires_grad, model.parameters()))\n",
        "assert len(parameters) == 2  # fc.weight, fc.bias"
      ],
      "execution_count": null,
      "outputs": []
    },
    {
      "cell_type": "code",
      "metadata": {
        "id": "aPVh1S_eMRDU"
      },
      "source": [
        "optimizer = torch.optim.Adam(model.parameters(), lr=0.0003, weight_decay=0.0008)\n",
        "criterion = torch.nn.CrossEntropyLoss().to(device)"
      ],
      "execution_count": null,
      "outputs": []
    },
    {
      "cell_type": "markdown",
      "metadata": {
        "id": "8Jbk4OVnUUmb"
      },
      "source": [
        "##  linear evaluation 방식으로, stl10에 대한 fc layer 학습해서 실험\n",
        "일부분(10%)의 labeled set stl10 활용"
      ]
    },
    {
      "cell_type": "code",
      "metadata": {
        "id": "edr6RhP2PdVq"
      },
      "source": [
        "def accuracy(output, target, topk=(1,)):\n",
        "    \"\"\"Computes the accuracy over the k top predictions for the specified values of k\"\"\"\n",
        "    with torch.no_grad():\n",
        "        maxk = max(topk)\n",
        "        batch_size = target.size(0)\n",
        "\n",
        "        _, pred = output.topk(maxk, 1, True, True)\n",
        "        pred = pred.t()\n",
        "        correct = pred.eq(target.view(1, -1).expand_as(pred))\n",
        "\n",
        "        res = []\n",
        "        for k in topk:\n",
        "            correct_k = correct[:k].reshape(-1).float().sum(0, keepdim=True)\n",
        "            res.append(correct_k.mul_(100.0 / batch_size))\n",
        "        return res"
      ],
      "execution_count": null,
      "outputs": []
    },
    {
      "cell_type": "code",
      "metadata": {
        "id": "qOder0dAMI7X",
        "colab": {
          "base_uri": "https://localhost:8080/"
        },
        "outputId": "77c1c9a8-b1bd-4955-b12d-37f7b3ec6201"
      },
      "source": [
        "epochs = 100\n",
        "for epoch in range(epochs):\n",
        "  top1_train_accuracy = 0\n",
        "  for counter, (x_batch, y_batch) in enumerate(train_loader):\n",
        "    x_batch = x_batch.to(device)\n",
        "    y_batch = y_batch.to(device)\n",
        "\n",
        "    logits = model(x_batch)\n",
        "    loss = criterion(logits, y_batch)\n",
        "    \n",
        "    top1 = accuracy(logits, y_batch, topk=(1,))\n",
        "    top1_train_accuracy += top1[0]\n",
        "\n",
        "    optimizer.zero_grad()\n",
        "    loss.backward()\n",
        "    optimizer.step()\n",
        "\n",
        "  top1_train_accuracy /= (counter + 1)\n",
        "  top1_accuracy = 0\n",
        "  top5_accuracy = 0\n",
        "  for counter, (x_batch, y_batch) in enumerate(test_loader):\n",
        "    x_batch = x_batch.to(device)\n",
        "    y_batch = y_batch.to(device)\n",
        "\n",
        "    logits = model(x_batch)\n",
        "  \n",
        "    top1, top5 = accuracy(logits, y_batch, topk=(1,5))\n",
        "    top1_accuracy += top1[0]\n",
        "    top5_accuracy += top5[0]\n",
        "  \n",
        "  top1_accuracy /= (counter + 1)\n",
        "  top5_accuracy /= (counter + 1)\n",
        "  print(f\"Epoch {epoch}\\tTop1 Train accuracy {top1_train_accuracy.item()}\\tTop1 Test accuracy: {top1_accuracy.item()}\\tTop5 test acc: {top5_accuracy.item()}\")"
      ],
      "execution_count": null,
      "outputs": [
        {
          "output_type": "stream",
          "name": "stderr",
          "text": [
            "/usr/local/lib/python3.7/dist-packages/torch/utils/data/dataloader.py:481: UserWarning: This DataLoader will create 10 worker processes in total. Our suggested max number of worker in current system is 4, which is smaller than what this DataLoader is going to create. Please be aware that excessive worker creation might get DataLoader running slow or even freeze, lower the worker number to avoid potential slowness/freeze if necessary.\n",
            "  cpuset_checked))\n",
            "/usr/local/lib/python3.7/dist-packages/torch/nn/functional.py:718: UserWarning: Named tensors and all their associated APIs are an experimental feature and subject to change. Please do not use them for anything important until they are released as stable. (Triggered internally at  /pytorch/c10/core/TensorImpl.h:1156.)\n",
            "  return torch.max_pool2d(input, kernel_size, stride, padding, dilation, ceil_mode)\n"
          ]
        },
        {
          "output_type": "stream",
          "name": "stdout",
          "text": [
            "Epoch 0\tTop1 Train accuracy 32.58616638183594\tTop1 Test accuracy: 46.92138671875\tTop5 test acc: 94.6435546875\n",
            "Epoch 1\tTop1 Train accuracy 52.75505447387695\tTop1 Test accuracy: 53.701171875\tTop5 test acc: 95.75439453125\n",
            "Epoch 2\tTop1 Train accuracy 56.803768157958984\tTop1 Test accuracy: 55.82763671875\tTop5 test acc: 96.03515625\n",
            "Epoch 3\tTop1 Train accuracy 58.173255920410156\tTop1 Test accuracy: 57.77587890625\tTop5 test acc: 96.259765625\n",
            "Epoch 4\tTop1 Train accuracy 58.9338264465332\tTop1 Test accuracy: 58.28857421875\tTop5 test acc: 96.34521484375\n",
            "Epoch 5\tTop1 Train accuracy 59.566864013671875\tTop1 Test accuracy: 58.97216796875\tTop5 test acc: 96.4794921875\n",
            "Epoch 6\tTop1 Train accuracy 60.63764190673828\tTop1 Test accuracy: 59.0234375\tTop5 test acc: 96.53564453125\n",
            "Epoch 7\tTop1 Train accuracy 60.51355743408203\tTop1 Test accuracy: 59.49462890625\tTop5 test acc: 96.71875\n",
            "Epoch 8\tTop1 Train accuracy 61.174171447753906\tTop1 Test accuracy: 59.80224609375\tTop5 test acc: 96.7822265625\n",
            "Epoch 9\tTop1 Train accuracy 61.224727630615234\tTop1 Test accuracy: 60.1025390625\tTop5 test acc: 96.8359375\n",
            "Epoch 10\tTop1 Train accuracy 61.82100296020508\tTop1 Test accuracy: 60.48095703125\tTop5 test acc: 96.85546875\n",
            "Epoch 11\tTop1 Train accuracy 62.248390197753906\tTop1 Test accuracy: 60.68603515625\tTop5 test acc: 96.943359375\n",
            "Epoch 12\tTop1 Train accuracy 62.10822677612305\tTop1 Test accuracy: 60.93994140625\tTop5 test acc: 97.01416015625\n",
            "Epoch 13\tTop1 Train accuracy 63.00551986694336\tTop1 Test accuracy: 61.171875\tTop5 test acc: 97.0263671875\n",
            "Epoch 14\tTop1 Train accuracy 63.440948486328125\tTop1 Test accuracy: 61.5283203125\tTop5 test acc: 96.9775390625\n",
            "Epoch 15\tTop1 Train accuracy 63.444393157958984\tTop1 Test accuracy: 61.42578125\tTop5 test acc: 97.01416015625\n",
            "Epoch 16\tTop1 Train accuracy 63.420265197753906\tTop1 Test accuracy: 61.72607421875\tTop5 test acc: 97.08740234375\n",
            "Epoch 17\tTop1 Train accuracy 63.355926513671875\tTop1 Test accuracy: 61.77978515625\tTop5 test acc: 97.099609375\n",
            "Epoch 18\tTop1 Train accuracy 64.09581756591797\tTop1 Test accuracy: 62.04345703125\tTop5 test acc: 97.1923828125\n",
            "Epoch 19\tTop1 Train accuracy 64.21415710449219\tTop1 Test accuracy: 62.333984375\tTop5 test acc: 97.16064453125\n",
            "Epoch 20\tTop1 Train accuracy 63.76953125\tTop1 Test accuracy: 62.30224609375\tTop5 test acc: 97.16552734375\n",
            "Epoch 21\tTop1 Train accuracy 64.58409881591797\tTop1 Test accuracy: 62.4658203125\tTop5 test acc: 97.197265625\n",
            "Epoch 22\tTop1 Train accuracy 64.35546875\tTop1 Test accuracy: 62.69775390625\tTop5 test acc: 97.23876953125\n",
            "Epoch 23\tTop1 Train accuracy 64.36235809326172\tTop1 Test accuracy: 62.880859375\tTop5 test acc: 97.20947265625\n",
            "Epoch 24\tTop1 Train accuracy 64.8805160522461\tTop1 Test accuracy: 63.10546875\tTop5 test acc: 97.3193359375\n",
            "Epoch 25\tTop1 Train accuracy 65.33203125\tTop1 Test accuracy: 63.07373046875\tTop5 test acc: 97.275390625\n",
            "Epoch 26\tTop1 Train accuracy 65.45841217041016\tTop1 Test accuracy: 63.26416015625\tTop5 test acc: 97.373046875\n",
            "Epoch 27\tTop1 Train accuracy 65.4515151977539\tTop1 Test accuracy: 63.43017578125\tTop5 test acc: 97.4169921875\n",
            "Epoch 28\tTop1 Train accuracy 65.546875\tTop1 Test accuracy: 63.38134765625\tTop5 test acc: 97.412109375\n",
            "Epoch 29\tTop1 Train accuracy 66.20519256591797\tTop1 Test accuracy: 63.51806640625\tTop5 test acc: 97.42431640625\n",
            "Epoch 30\tTop1 Train accuracy 66.02367401123047\tTop1 Test accuracy: 63.72802734375\tTop5 test acc: 97.4609375\n",
            "Epoch 31\tTop1 Train accuracy 65.90303802490234\tTop1 Test accuracy: 63.8037109375\tTop5 test acc: 97.49755859375\n",
            "Epoch 32\tTop1 Train accuracy 66.16268157958984\tTop1 Test accuracy: 63.91357421875\tTop5 test acc: 97.48046875\n",
            "Epoch 33\tTop1 Train accuracy 66.48092651367188\tTop1 Test accuracy: 63.98681640625\tTop5 test acc: 97.4853515625\n",
            "Epoch 34\tTop1 Train accuracy 66.54412078857422\tTop1 Test accuracy: 63.96240234375\tTop5 test acc: 97.51708984375\n",
            "Epoch 35\tTop1 Train accuracy 66.65670776367188\tTop1 Test accuracy: 64.06982421875\tTop5 test acc: 97.49755859375\n",
            "Epoch 36\tTop1 Train accuracy 67.10823059082031\tTop1 Test accuracy: 64.13330078125\tTop5 test acc: 97.52197265625\n",
            "Epoch 37\tTop1 Train accuracy 67.21047973632812\tTop1 Test accuracy: 64.21875\tTop5 test acc: 97.5341796875\n",
            "Epoch 38\tTop1 Train accuracy 67.04158782958984\tTop1 Test accuracy: 64.3896484375\tTop5 test acc: 97.59521484375\n",
            "Epoch 39\tTop1 Train accuracy 67.36443328857422\tTop1 Test accuracy: 64.482421875\tTop5 test acc: 97.59033203125\n",
            "Epoch 40\tTop1 Train accuracy 67.5562973022461\tTop1 Test accuracy: 64.56298828125\tTop5 test acc: 97.57080078125\n",
            "Epoch 41\tTop1 Train accuracy 67.23461151123047\tTop1 Test accuracy: 64.5849609375\tTop5 test acc: 97.61962890625\n",
            "Epoch 42\tTop1 Train accuracy 67.35063934326172\tTop1 Test accuracy: 64.62890625\tTop5 test acc: 97.6025390625\n",
            "Epoch 43\tTop1 Train accuracy 67.53331756591797\tTop1 Test accuracy: 64.80712890625\tTop5 test acc: 97.607421875\n",
            "Epoch 44\tTop1 Train accuracy 67.41728210449219\tTop1 Test accuracy: 64.7412109375\tTop5 test acc: 97.6513671875\n",
            "Epoch 45\tTop1 Train accuracy 67.62063598632812\tTop1 Test accuracy: 64.83154296875\tTop5 test acc: 97.63916015625\n",
            "Epoch 46\tTop1 Train accuracy 67.92164611816406\tTop1 Test accuracy: 64.95849609375\tTop5 test acc: 97.63916015625\n",
            "Epoch 47\tTop1 Train accuracy 67.9273910522461\tTop1 Test accuracy: 64.9560546875\tTop5 test acc: 97.6806640625\n",
            "Epoch 48\tTop1 Train accuracy 68.08708953857422\tTop1 Test accuracy: 65.09765625\tTop5 test acc: 97.68798828125\n",
            "Epoch 49\tTop1 Train accuracy 67.68152618408203\tTop1 Test accuracy: 65.146484375\tTop5 test acc: 97.68798828125\n",
            "Epoch 50\tTop1 Train accuracy 68.13878631591797\tTop1 Test accuracy: 65.1953125\tTop5 test acc: 97.6806640625\n",
            "Epoch 51\tTop1 Train accuracy 68.55354309082031\tTop1 Test accuracy: 65.35400390625\tTop5 test acc: 97.75390625\n",
            "Epoch 52\tTop1 Train accuracy 68.42141723632812\tTop1 Test accuracy: 65.45166015625\tTop5 test acc: 97.76123046875\n",
            "Epoch 53\tTop1 Train accuracy 68.41682434082031\tTop1 Test accuracy: 65.419921875\tTop5 test acc: 97.7978515625\n",
            "Epoch 54\tTop1 Train accuracy 68.09168243408203\tTop1 Test accuracy: 65.35888671875\tTop5 test acc: 97.81494140625\n",
            "Epoch 55\tTop1 Train accuracy 67.94002532958984\tTop1 Test accuracy: 65.55419921875\tTop5 test acc: 97.81005859375\n",
            "Epoch 56\tTop1 Train accuracy 68.9866714477539\tTop1 Test accuracy: 65.48828125\tTop5 test acc: 97.822265625\n",
            "Epoch 57\tTop1 Train accuracy 68.59490203857422\tTop1 Test accuracy: 65.48095703125\tTop5 test acc: 97.841796875\n",
            "Epoch 58\tTop1 Train accuracy 69.03032684326172\tTop1 Test accuracy: 65.50048828125\tTop5 test acc: 97.85400390625\n",
            "Epoch 59\tTop1 Train accuracy 68.57766723632812\tTop1 Test accuracy: 65.56884765625\tTop5 test acc: 97.87841796875\n",
            "Epoch 60\tTop1 Train accuracy 68.92118835449219\tTop1 Test accuracy: 65.6982421875\tTop5 test acc: 97.83935546875\n",
            "Epoch 61\tTop1 Train accuracy 68.89476776123047\tTop1 Test accuracy: 65.60546875\tTop5 test acc: 97.85400390625\n",
            "Epoch 62\tTop1 Train accuracy 68.80170440673828\tTop1 Test accuracy: 65.69091796875\tTop5 test acc: 97.87841796875\n",
            "Epoch 63\tTop1 Train accuracy 69.12224578857422\tTop1 Test accuracy: 65.73974609375\tTop5 test acc: 97.90283203125\n",
            "Epoch 64\tTop1 Train accuracy 69.07628631591797\tTop1 Test accuracy: 65.6982421875\tTop5 test acc: 97.9150390625\n",
            "Epoch 65\tTop1 Train accuracy 69.13488006591797\tTop1 Test accuracy: 65.78369140625\tTop5 test acc: 97.87841796875\n",
            "Epoch 66\tTop1 Train accuracy 69.30261993408203\tTop1 Test accuracy: 65.91064453125\tTop5 test acc: 97.85888671875\n",
            "Epoch 67\tTop1 Train accuracy 69.30951690673828\tTop1 Test accuracy: 65.8251953125\tTop5 test acc: 97.90283203125\n",
            "Epoch 68\tTop1 Train accuracy 69.46920776367188\tTop1 Test accuracy: 65.95947265625\tTop5 test acc: 97.890625\n",
            "Epoch 69\tTop1 Train accuracy 69.56111907958984\tTop1 Test accuracy: 66.03515625\tTop5 test acc: 97.8662109375\n",
            "Epoch 70\tTop1 Train accuracy 69.49678802490234\tTop1 Test accuracy: 65.94970703125\tTop5 test acc: 97.87841796875\n",
            "Epoch 71\tTop1 Train accuracy 69.47610473632812\tTop1 Test accuracy: 66.00341796875\tTop5 test acc: 97.890625\n",
            "Epoch 72\tTop1 Train accuracy 69.609375\tTop1 Test accuracy: 66.07421875\tTop5 test acc: 97.92724609375\n",
            "Epoch 73\tTop1 Train accuracy 69.67716217041016\tTop1 Test accuracy: 66.1083984375\tTop5 test acc: 97.90283203125\n",
            "Epoch 74\tTop1 Train accuracy 69.61511993408203\tTop1 Test accuracy: 66.01318359375\tTop5 test acc: 97.92724609375\n",
            "Epoch 75\tTop1 Train accuracy 69.95748901367188\tTop1 Test accuracy: 66.27197265625\tTop5 test acc: 97.939453125\n",
            "Epoch 76\tTop1 Train accuracy 70.13787078857422\tTop1 Test accuracy: 66.38916015625\tTop5 test acc: 97.90283203125\n",
            "Epoch 77\tTop1 Train accuracy 70.0804214477539\tTop1 Test accuracy: 66.328125\tTop5 test acc: 97.92724609375\n",
            "Epoch 78\tTop1 Train accuracy 70.11604309082031\tTop1 Test accuracy: 66.35009765625\tTop5 test acc: 97.92724609375\n",
            "Epoch 79\tTop1 Train accuracy 70.36534881591797\tTop1 Test accuracy: 66.49169921875\tTop5 test acc: 97.939453125\n",
            "Epoch 80\tTop1 Train accuracy 70.38028717041016\tTop1 Test accuracy: 66.40625\tTop5 test acc: 97.939453125\n",
            "Epoch 81\tTop1 Train accuracy 70.28722381591797\tTop1 Test accuracy: 66.44775390625\tTop5 test acc: 97.9150390625\n",
            "Epoch 82\tTop1 Train accuracy 70.85478210449219\tTop1 Test accuracy: 66.552734375\tTop5 test acc: 97.92724609375\n",
            "Epoch 83\tTop1 Train accuracy 70.52159881591797\tTop1 Test accuracy: 66.552734375\tTop5 test acc: 97.9150390625\n",
            "Epoch 84\tTop1 Train accuracy 70.49977111816406\tTop1 Test accuracy: 66.51611328125\tTop5 test acc: 97.90771484375\n",
            "Epoch 85\tTop1 Train accuracy 70.42279815673828\tTop1 Test accuracy: 66.6064453125\tTop5 test acc: 97.890625\n",
            "Epoch 86\tTop1 Train accuracy 70.92256927490234\tTop1 Test accuracy: 66.66259765625\tTop5 test acc: 97.9150390625\n",
            "Epoch 87\tTop1 Train accuracy 70.67900085449219\tTop1 Test accuracy: 66.68701171875\tTop5 test acc: 97.9150390625\n",
            "Epoch 88\tTop1 Train accuracy 70.65486907958984\tTop1 Test accuracy: 66.59423828125\tTop5 test acc: 97.9638671875\n",
            "Epoch 89\tTop1 Train accuracy 70.75597381591797\tTop1 Test accuracy: 66.69189453125\tTop5 test acc: 97.95166015625\n",
            "Epoch 90\tTop1 Train accuracy 70.69164276123047\tTop1 Test accuracy: 66.61376953125\tTop5 test acc: 97.939453125\n",
            "Epoch 91\tTop1 Train accuracy 71.20748901367188\tTop1 Test accuracy: 66.59423828125\tTop5 test acc: 97.98828125\n",
            "Epoch 92\tTop1 Train accuracy 70.86626434326172\tTop1 Test accuracy: 66.7236328125\tTop5 test acc: 97.939453125\n",
            "Epoch 93\tTop1 Train accuracy 71.33961486816406\tTop1 Test accuracy: 66.7236328125\tTop5 test acc: 97.95166015625\n",
            "Epoch 94\tTop1 Train accuracy 71.45220184326172\tTop1 Test accuracy: 66.88232421875\tTop5 test acc: 97.9638671875\n",
            "Epoch 95\tTop1 Train accuracy 70.89958953857422\tTop1 Test accuracy: 66.71630859375\tTop5 test acc: 97.9638671875\n",
            "Epoch 96\tTop1 Train accuracy 71.45336151123047\tTop1 Test accuracy: 66.85302734375\tTop5 test acc: 97.98828125\n",
            "Epoch 97\tTop1 Train accuracy 71.31204223632812\tTop1 Test accuracy: 66.85791015625\tTop5 test acc: 97.9638671875\n",
            "Epoch 98\tTop1 Train accuracy 71.41313934326172\tTop1 Test accuracy: 67.04833984375\tTop5 test acc: 97.9638671875\n",
            "Epoch 99\tTop1 Train accuracy 71.52229309082031\tTop1 Test accuracy: 66.81396484375\tTop5 test acc: 98.0126953125\n"
          ]
        }
      ]
    },
    {
      "cell_type": "code",
      "metadata": {
        "id": "dtYqHZirMNZk"
      },
      "source": [
        ""
      ],
      "execution_count": null,
      "outputs": []
    },
    {
      "cell_type": "markdown",
      "metadata": {
        "id": "EfZao5RCSGi-"
      },
      "source": [
        ""
      ]
    },
    {
      "cell_type": "markdown",
      "metadata": {
        "id": "n4QpQYglSGnS"
      },
      "source": [
        "Top1 Test accuracy: 66.07421875\tTop5 test acc: 97.92724609375\n",
        "Epoch 80\tTop1 Train accuracy 70.38028717041016\tTop1 Test accuracy: 66.40625\tTop5 test acc: 97.939453125"
      ]
    },
    {
      "cell_type": "code",
      "metadata": {
        "id": "PzO4rTa7SOXx"
      },
      "source": [
        "Top1 Train accuracy 71.41313934326172\tTop1 Test accuracy: 67.04833984375\tTop5 test acc: 97.9638671875"
      ],
      "execution_count": null,
      "outputs": []
    },
    {
      "cell_type": "code",
      "metadata": {
        "id": "SXExg7I-SXrp"
      },
      "source": [
        ""
      ],
      "execution_count": null,
      "outputs": []
    }
  ]
}